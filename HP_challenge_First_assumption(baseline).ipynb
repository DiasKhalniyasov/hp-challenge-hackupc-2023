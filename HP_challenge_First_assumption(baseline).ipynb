{
  "nbformat": 4,
  "nbformat_minor": 0,
  "metadata": {
    "colab": {
      "provenance": [],
      "gpuType": "T4"
    },
    "kernelspec": {
      "name": "python3",
      "display_name": "Python 3"
    },
    "language_info": {
      "name": "python"
    },
    "gpuClass": "standard"
  },
  "cells": [
    {
      "cell_type": "code",
      "source": [
        "pip install tensorflow_addons"
      ],
      "metadata": {
        "id": "0etcRzoShCh0",
        "colab": {
          "base_uri": "https://localhost:8080/"
        },
        "outputId": "6e9d1559-0f7d-4f21-c27d-cba1b5e0339d"
      },
      "execution_count": 60,
      "outputs": [
        {
          "output_type": "stream",
          "name": "stdout",
          "text": [
            "Looking in indexes: https://pypi.org/simple, https://us-python.pkg.dev/colab-wheels/public/simple/\n",
            "Requirement already satisfied: tensorflow_addons in /usr/local/lib/python3.10/dist-packages (0.20.0)\n",
            "Requirement already satisfied: packaging in /usr/local/lib/python3.10/dist-packages (from tensorflow_addons) (23.1)\n",
            "Requirement already satisfied: typeguard<3.0.0,>=2.7 in /usr/local/lib/python3.10/dist-packages (from tensorflow_addons) (2.13.3)\n"
          ]
        }
      ]
    },
    {
      "cell_type": "code",
      "execution_count": 74,
      "metadata": {
        "id": "XuiWClm6pldj"
      },
      "outputs": [],
      "source": [
        "import pandas as pd\n",
        "import numpy as np\n",
        "# Import libraries\n",
        "import seaborn\n",
        "import warnings\n",
        "warnings.filterwarnings('ignore')\n",
        "import matplotlib.pyplot as plt\n",
        "from datetime import datetime, timedelta\n",
        "from sklearn.preprocessing import MinMaxScaler, StandardScaler\n",
        "from sklearn.metrics import mean_absolute_error, mean_squared_error\n",
        "from math import sqrt\n",
        "from keras.models import Sequential\n",
        "import tensorflow as tf\n",
        "from keras.layers import Dense, LSTM\n",
        "import tensorflow_addons as tfa\n",
        "import os\n",
        "import tensorflow as tf\n",
        "from tensorflow.keras import layers\n",
        "%matplotlib inline"
      ]
    },
    {
      "cell_type": "markdown",
      "source": [
        "### Read Dataset"
      ],
      "metadata": {
        "id": "wtZaH89K5hvQ"
      }
    },
    {
      "cell_type": "code",
      "source": [
        "data = pd.read_csv('/content/train.csv')\n",
        "data"
      ],
      "metadata": {
        "colab": {
          "base_uri": "https://localhost:8080/",
          "height": 661
        },
        "id": "yadhWazlsLD0",
        "outputId": "3cfcc94e-abae-4816-e3c4-5717798f6cc0"
      },
      "execution_count": 62,
      "outputs": [
        {
          "output_type": "execute_result",
          "data": {
            "text/plain": [
              "                  id        date  year_week  product_number  reporterhq_id  \\\n",
              "0        202119-6909  2021-05-15     202119            6909             93   \n",
              "1        202120-6909  2021-05-22     202120            6909             93   \n",
              "2        202121-6909  2021-05-29     202121            6909             93   \n",
              "3        202122-6909  2021-06-05     202122            6909             93   \n",
              "4        202123-6909  2021-06-12     202123            6909             93   \n",
              "...              ...         ...        ...             ...            ...   \n",
              "15449  202317-247737  2023-04-29     202317          247737             15   \n",
              "15450  202317-247737  2023-04-29     202317          247737             24   \n",
              "15451  202318-247737  2023-05-06     202318          247737              3   \n",
              "15452  202318-247737  2023-05-06     202318          247737             15   \n",
              "15453  202318-247737  2023-05-06     202318          247737             24   \n",
              "\n",
              "      prod_category  specs  display_size  segment  sales_units  \\\n",
              "0             Arale  21274          13.3  Premium          2.0   \n",
              "1             Arale  21274          13.3  Premium          0.0   \n",
              "2             Arale  21274          13.3  Premium          3.0   \n",
              "3             Arale  21274          13.3  Premium          0.0   \n",
              "4             Arale  21274          13.3  Premium          0.0   \n",
              "...             ...    ...           ...      ...          ...   \n",
              "15449         Arale  10637          13.3  Premium          0.0   \n",
              "15450         Arale  10637          13.3  Premium          0.0   \n",
              "15451         Arale  10637          13.3  Premium         22.0   \n",
              "15452         Arale  10637          13.3  Premium         68.0   \n",
              "15453         Arale  10637          13.3  Premium          5.0   \n",
              "\n",
              "       inventory_units  \n",
              "0                 35.0  \n",
              "1                 70.0  \n",
              "2                137.0  \n",
              "3                274.0  \n",
              "4                333.0  \n",
              "...                ...  \n",
              "15449             62.0  \n",
              "15450              3.0  \n",
              "15451              0.0  \n",
              "15452             78.0  \n",
              "15453              1.0  \n",
              "\n",
              "[15454 rows x 11 columns]"
            ],
            "text/html": [
              "\n",
              "  <div id=\"df-10bd3ca1-9359-4017-aacd-78c2ba3b08de\">\n",
              "    <div class=\"colab-df-container\">\n",
              "      <div>\n",
              "<style scoped>\n",
              "    .dataframe tbody tr th:only-of-type {\n",
              "        vertical-align: middle;\n",
              "    }\n",
              "\n",
              "    .dataframe tbody tr th {\n",
              "        vertical-align: top;\n",
              "    }\n",
              "\n",
              "    .dataframe thead th {\n",
              "        text-align: right;\n",
              "    }\n",
              "</style>\n",
              "<table border=\"1\" class=\"dataframe\">\n",
              "  <thead>\n",
              "    <tr style=\"text-align: right;\">\n",
              "      <th></th>\n",
              "      <th>id</th>\n",
              "      <th>date</th>\n",
              "      <th>year_week</th>\n",
              "      <th>product_number</th>\n",
              "      <th>reporterhq_id</th>\n",
              "      <th>prod_category</th>\n",
              "      <th>specs</th>\n",
              "      <th>display_size</th>\n",
              "      <th>segment</th>\n",
              "      <th>sales_units</th>\n",
              "      <th>inventory_units</th>\n",
              "    </tr>\n",
              "  </thead>\n",
              "  <tbody>\n",
              "    <tr>\n",
              "      <th>0</th>\n",
              "      <td>202119-6909</td>\n",
              "      <td>2021-05-15</td>\n",
              "      <td>202119</td>\n",
              "      <td>6909</td>\n",
              "      <td>93</td>\n",
              "      <td>Arale</td>\n",
              "      <td>21274</td>\n",
              "      <td>13.3</td>\n",
              "      <td>Premium</td>\n",
              "      <td>2.0</td>\n",
              "      <td>35.0</td>\n",
              "    </tr>\n",
              "    <tr>\n",
              "      <th>1</th>\n",
              "      <td>202120-6909</td>\n",
              "      <td>2021-05-22</td>\n",
              "      <td>202120</td>\n",
              "      <td>6909</td>\n",
              "      <td>93</td>\n",
              "      <td>Arale</td>\n",
              "      <td>21274</td>\n",
              "      <td>13.3</td>\n",
              "      <td>Premium</td>\n",
              "      <td>0.0</td>\n",
              "      <td>70.0</td>\n",
              "    </tr>\n",
              "    <tr>\n",
              "      <th>2</th>\n",
              "      <td>202121-6909</td>\n",
              "      <td>2021-05-29</td>\n",
              "      <td>202121</td>\n",
              "      <td>6909</td>\n",
              "      <td>93</td>\n",
              "      <td>Arale</td>\n",
              "      <td>21274</td>\n",
              "      <td>13.3</td>\n",
              "      <td>Premium</td>\n",
              "      <td>3.0</td>\n",
              "      <td>137.0</td>\n",
              "    </tr>\n",
              "    <tr>\n",
              "      <th>3</th>\n",
              "      <td>202122-6909</td>\n",
              "      <td>2021-06-05</td>\n",
              "      <td>202122</td>\n",
              "      <td>6909</td>\n",
              "      <td>93</td>\n",
              "      <td>Arale</td>\n",
              "      <td>21274</td>\n",
              "      <td>13.3</td>\n",
              "      <td>Premium</td>\n",
              "      <td>0.0</td>\n",
              "      <td>274.0</td>\n",
              "    </tr>\n",
              "    <tr>\n",
              "      <th>4</th>\n",
              "      <td>202123-6909</td>\n",
              "      <td>2021-06-12</td>\n",
              "      <td>202123</td>\n",
              "      <td>6909</td>\n",
              "      <td>93</td>\n",
              "      <td>Arale</td>\n",
              "      <td>21274</td>\n",
              "      <td>13.3</td>\n",
              "      <td>Premium</td>\n",
              "      <td>0.0</td>\n",
              "      <td>333.0</td>\n",
              "    </tr>\n",
              "    <tr>\n",
              "      <th>...</th>\n",
              "      <td>...</td>\n",
              "      <td>...</td>\n",
              "      <td>...</td>\n",
              "      <td>...</td>\n",
              "      <td>...</td>\n",
              "      <td>...</td>\n",
              "      <td>...</td>\n",
              "      <td>...</td>\n",
              "      <td>...</td>\n",
              "      <td>...</td>\n",
              "      <td>...</td>\n",
              "    </tr>\n",
              "    <tr>\n",
              "      <th>15449</th>\n",
              "      <td>202317-247737</td>\n",
              "      <td>2023-04-29</td>\n",
              "      <td>202317</td>\n",
              "      <td>247737</td>\n",
              "      <td>15</td>\n",
              "      <td>Arale</td>\n",
              "      <td>10637</td>\n",
              "      <td>13.3</td>\n",
              "      <td>Premium</td>\n",
              "      <td>0.0</td>\n",
              "      <td>62.0</td>\n",
              "    </tr>\n",
              "    <tr>\n",
              "      <th>15450</th>\n",
              "      <td>202317-247737</td>\n",
              "      <td>2023-04-29</td>\n",
              "      <td>202317</td>\n",
              "      <td>247737</td>\n",
              "      <td>24</td>\n",
              "      <td>Arale</td>\n",
              "      <td>10637</td>\n",
              "      <td>13.3</td>\n",
              "      <td>Premium</td>\n",
              "      <td>0.0</td>\n",
              "      <td>3.0</td>\n",
              "    </tr>\n",
              "    <tr>\n",
              "      <th>15451</th>\n",
              "      <td>202318-247737</td>\n",
              "      <td>2023-05-06</td>\n",
              "      <td>202318</td>\n",
              "      <td>247737</td>\n",
              "      <td>3</td>\n",
              "      <td>Arale</td>\n",
              "      <td>10637</td>\n",
              "      <td>13.3</td>\n",
              "      <td>Premium</td>\n",
              "      <td>22.0</td>\n",
              "      <td>0.0</td>\n",
              "    </tr>\n",
              "    <tr>\n",
              "      <th>15452</th>\n",
              "      <td>202318-247737</td>\n",
              "      <td>2023-05-06</td>\n",
              "      <td>202318</td>\n",
              "      <td>247737</td>\n",
              "      <td>15</td>\n",
              "      <td>Arale</td>\n",
              "      <td>10637</td>\n",
              "      <td>13.3</td>\n",
              "      <td>Premium</td>\n",
              "      <td>68.0</td>\n",
              "      <td>78.0</td>\n",
              "    </tr>\n",
              "    <tr>\n",
              "      <th>15453</th>\n",
              "      <td>202318-247737</td>\n",
              "      <td>2023-05-06</td>\n",
              "      <td>202318</td>\n",
              "      <td>247737</td>\n",
              "      <td>24</td>\n",
              "      <td>Arale</td>\n",
              "      <td>10637</td>\n",
              "      <td>13.3</td>\n",
              "      <td>Premium</td>\n",
              "      <td>5.0</td>\n",
              "      <td>1.0</td>\n",
              "    </tr>\n",
              "  </tbody>\n",
              "</table>\n",
              "<p>15454 rows × 11 columns</p>\n",
              "</div>\n",
              "      <button class=\"colab-df-convert\" onclick=\"convertToInteractive('df-10bd3ca1-9359-4017-aacd-78c2ba3b08de')\"\n",
              "              title=\"Convert this dataframe to an interactive table.\"\n",
              "              style=\"display:none;\">\n",
              "        \n",
              "  <svg xmlns=\"http://www.w3.org/2000/svg\" height=\"24px\"viewBox=\"0 0 24 24\"\n",
              "       width=\"24px\">\n",
              "    <path d=\"M0 0h24v24H0V0z\" fill=\"none\"/>\n",
              "    <path d=\"M18.56 5.44l.94 2.06.94-2.06 2.06-.94-2.06-.94-.94-2.06-.94 2.06-2.06.94zm-11 1L8.5 8.5l.94-2.06 2.06-.94-2.06-.94L8.5 2.5l-.94 2.06-2.06.94zm10 10l.94 2.06.94-2.06 2.06-.94-2.06-.94-.94-2.06-.94 2.06-2.06.94z\"/><path d=\"M17.41 7.96l-1.37-1.37c-.4-.4-.92-.59-1.43-.59-.52 0-1.04.2-1.43.59L10.3 9.45l-7.72 7.72c-.78.78-.78 2.05 0 2.83L4 21.41c.39.39.9.59 1.41.59.51 0 1.02-.2 1.41-.59l7.78-7.78 2.81-2.81c.8-.78.8-2.07 0-2.86zM5.41 20L4 18.59l7.72-7.72 1.47 1.35L5.41 20z\"/>\n",
              "  </svg>\n",
              "      </button>\n",
              "      \n",
              "  <style>\n",
              "    .colab-df-container {\n",
              "      display:flex;\n",
              "      flex-wrap:wrap;\n",
              "      gap: 12px;\n",
              "    }\n",
              "\n",
              "    .colab-df-convert {\n",
              "      background-color: #E8F0FE;\n",
              "      border: none;\n",
              "      border-radius: 50%;\n",
              "      cursor: pointer;\n",
              "      display: none;\n",
              "      fill: #1967D2;\n",
              "      height: 32px;\n",
              "      padding: 0 0 0 0;\n",
              "      width: 32px;\n",
              "    }\n",
              "\n",
              "    .colab-df-convert:hover {\n",
              "      background-color: #E2EBFA;\n",
              "      box-shadow: 0px 1px 2px rgba(60, 64, 67, 0.3), 0px 1px 3px 1px rgba(60, 64, 67, 0.15);\n",
              "      fill: #174EA6;\n",
              "    }\n",
              "\n",
              "    [theme=dark] .colab-df-convert {\n",
              "      background-color: #3B4455;\n",
              "      fill: #D2E3FC;\n",
              "    }\n",
              "\n",
              "    [theme=dark] .colab-df-convert:hover {\n",
              "      background-color: #434B5C;\n",
              "      box-shadow: 0px 1px 3px 1px rgba(0, 0, 0, 0.15);\n",
              "      filter: drop-shadow(0px 1px 2px rgba(0, 0, 0, 0.3));\n",
              "      fill: #FFFFFF;\n",
              "    }\n",
              "  </style>\n",
              "\n",
              "      <script>\n",
              "        const buttonEl =\n",
              "          document.querySelector('#df-10bd3ca1-9359-4017-aacd-78c2ba3b08de button.colab-df-convert');\n",
              "        buttonEl.style.display =\n",
              "          google.colab.kernel.accessAllowed ? 'block' : 'none';\n",
              "\n",
              "        async function convertToInteractive(key) {\n",
              "          const element = document.querySelector('#df-10bd3ca1-9359-4017-aacd-78c2ba3b08de');\n",
              "          const dataTable =\n",
              "            await google.colab.kernel.invokeFunction('convertToInteractive',\n",
              "                                                     [key], {});\n",
              "          if (!dataTable) return;\n",
              "\n",
              "          const docLinkHtml = 'Like what you see? Visit the ' +\n",
              "            '<a target=\"_blank\" href=https://colab.research.google.com/notebooks/data_table.ipynb>data table notebook</a>'\n",
              "            + ' to learn more about interactive tables.';\n",
              "          element.innerHTML = '';\n",
              "          dataTable['output_type'] = 'display_data';\n",
              "          await google.colab.output.renderOutput(dataTable, element);\n",
              "          const docLink = document.createElement('div');\n",
              "          docLink.innerHTML = docLinkHtml;\n",
              "          element.appendChild(docLink);\n",
              "        }\n",
              "      </script>\n",
              "    </div>\n",
              "  </div>\n",
              "  "
            ]
          },
          "metadata": {},
          "execution_count": 62
        }
      ]
    },
    {
      "cell_type": "markdown",
      "source": [
        "# Data Processing"
      ],
      "metadata": {
        "id": "E_10popg5cU3"
      }
    },
    {
      "cell_type": "markdown",
      "source": [
        "Cast column types"
      ],
      "metadata": {
        "id": "tAMn-BIz6GqG"
      }
    },
    {
      "cell_type": "code",
      "source": [
        "data.info()"
      ],
      "metadata": {
        "colab": {
          "base_uri": "https://localhost:8080/"
        },
        "id": "whEFudmP6xZp",
        "outputId": "e4a42bd0-e10f-4234-eec9-602efe2e6298"
      },
      "execution_count": 63,
      "outputs": [
        {
          "output_type": "stream",
          "name": "stdout",
          "text": [
            "<class 'pandas.core.frame.DataFrame'>\n",
            "RangeIndex: 15454 entries, 0 to 15453\n",
            "Data columns (total 11 columns):\n",
            " #   Column           Non-Null Count  Dtype  \n",
            "---  ------           --------------  -----  \n",
            " 0   id               15454 non-null  object \n",
            " 1   date             15454 non-null  object \n",
            " 2   year_week        15454 non-null  int64  \n",
            " 3   product_number   15454 non-null  int64  \n",
            " 4   reporterhq_id    15454 non-null  int64  \n",
            " 5   prod_category    15454 non-null  object \n",
            " 6   specs            15454 non-null  int64  \n",
            " 7   display_size     15454 non-null  float64\n",
            " 8   segment          15454 non-null  object \n",
            " 9   sales_units      14963 non-null  float64\n",
            " 10  inventory_units  14961 non-null  float64\n",
            "dtypes: float64(3), int64(4), object(4)\n",
            "memory usage: 1.3+ MB\n"
          ]
        }
      ]
    },
    {
      "cell_type": "code",
      "source": [
        "data.columns"
      ],
      "metadata": {
        "colab": {
          "base_uri": "https://localhost:8080/"
        },
        "id": "2EbNfIrh6TLY",
        "outputId": "04684b9f-ac8f-472c-b8e7-a696b404c327"
      },
      "execution_count": 64,
      "outputs": [
        {
          "output_type": "execute_result",
          "data": {
            "text/plain": [
              "Index(['id', 'date', 'year_week', 'product_number', 'reporterhq_id',\n",
              "       'prod_category', 'specs', 'display_size', 'segment', 'sales_units',\n",
              "       'inventory_units'],\n",
              "      dtype='object')"
            ]
          },
          "metadata": {},
          "execution_count": 64
        }
      ]
    },
    {
      "cell_type": "code",
      "source": [
        "# Define the column type mapping\n",
        "cate_columns = ['id', 'year_week', 'product_number', 'reporterhq_id',\n",
        "       'prod_category', 'specs', 'display_size', 'segment']\n",
        "data[cate_columns] = data[cate_columns].astype('str')\n",
        "data['date'] = pd.to_datetime(data['date'])\n",
        "data.dtypes"
      ],
      "metadata": {
        "colab": {
          "base_uri": "https://localhost:8080/"
        },
        "id": "rUMXvGEy8zmA",
        "outputId": "88419ce8-88dc-4ee8-ece9-afa3c7dfc4e1"
      },
      "execution_count": 68,
      "outputs": [
        {
          "output_type": "execute_result",
          "data": {
            "text/plain": [
              "id                         object\n",
              "date               datetime64[ns]\n",
              "year_week                  object\n",
              "product_number             object\n",
              "reporterhq_id              object\n",
              "prod_category              object\n",
              "specs                      object\n",
              "display_size               object\n",
              "segment                    object\n",
              "sales_units               float64\n",
              "inventory_units           float64\n",
              "dtype: object"
            ]
          },
          "metadata": {},
          "execution_count": 68
        }
      ]
    },
    {
      "cell_type": "code",
      "source": [
        "product_ids = data.product_number.unique()\n",
        "product_ids"
      ],
      "metadata": {
        "colab": {
          "base_uri": "https://localhost:8080/"
        },
        "id": "3f1ErOOh-mts",
        "outputId": "a7527684-a4a7-4953-c5df-7f513f24ce27"
      },
      "execution_count": 69,
      "outputs": [
        {
          "output_type": "execute_result",
          "data": {
            "text/plain": [
              "array(['6909', '7896', '8883', '9870', '10857', '11844', '12831', '14805',\n",
              "       '17766', '24675', '25662', '30597', '32571', '33558', '37506',\n",
              "       '41454', '43428', '45402', '46389', '48363', '51324', '57246',\n",
              "       '58233', '59220', '62181', '64155', '65142', '73038', '75012',\n",
              "       '77973', '80934', '81921', '82908', '83895', '86856', '87843',\n",
              "       '89817', '91791', '92778', '93765', '94752', '99687', '105609',\n",
              "       '107583', '109557', '112518', '114492', '116466', '119427',\n",
              "       '127323', '129297', '130284', '138180', '143115', '148050',\n",
              "       '155946', '157920', '158907', '163842', '165816', '167790',\n",
              "       '169764', '171738', '172725', '175686', '177660', '182595',\n",
              "       '183582', '184569', '187530', '190491', '191478', '192465',\n",
              "       '193452', '195426', '196413', '197400', '201348', '204309',\n",
              "       '205296', '211218', '213192', '214179', '219114', '220101',\n",
              "       '221088', '222075', '226023', '230958', '231945', '233919',\n",
              "       '234906', '235893', '236880', '237867', '238854', '239841',\n",
              "       '240828', '242802', '247737'], dtype=object)"
            ]
          },
          "metadata": {},
          "execution_count": 69
        }
      ]
    },
    {
      "cell_type": "code",
      "source": [
        "def check_categorical_relation(frame):\n",
        "  # Let's check the relation between product number and other categorical features\n",
        "  gd = frame.groupby(['product_number']).nunique()\n",
        "\n",
        "  print(gd['specs'].unique())\n",
        "  print(gd['display_size'].unique())\n",
        "  print(gd['prod_category'].unique())\n",
        "  print(gd['segment'].unique())\n",
        "\n",
        "check_categorical_relation(data)"
      ],
      "metadata": {
        "colab": {
          "base_uri": "https://localhost:8080/"
        },
        "id": "8VXCDqiOvpxZ",
        "outputId": "03c75a02-b09d-48ba-fc72-066795e675bf"
      },
      "execution_count": 70,
      "outputs": [
        {
          "output_type": "stream",
          "name": "stdout",
          "text": [
            "[1]\n",
            "[1]\n",
            "[1]\n",
            "[1]\n"
          ]
        }
      ]
    },
    {
      "cell_type": "code",
      "source": [
        "### Number of unique values from this columns for each product_number is 1\n",
        "### It means they are not changing over time/place for certain product"
      ],
      "metadata": {
        "id": "r7jmoPbLyXAu"
      },
      "execution_count": null,
      "outputs": []
    },
    {
      "cell_type": "code",
      "source": [
        "# Preparing dummy dataframe, to insert datetime values and number of records between them\n",
        "data_dates = pd.DataFrame([['983','2023-04-29','2023-04-29',43]])\n",
        "data_dates.columns=[\"product_number\",\"first_date\",\"last_date\",\"number_of_weeks\"]\n",
        "data_dates['first_date'] = pd.to_datetime(data_dates['first_date'])\n",
        "data_dates['last_date'] = pd.to_datetime(data_dates['last_date'])\n",
        "\n",
        "# Find first date of data, and last date for each product. Insert number of records (weeks) that are in the data\n",
        "def find_min_max_of_product(product_id,data_dates,frame_main):\n",
        "  data_cut = frame_main[frame_main['product_number']==product_id].sort_values('date',ascending=True).reset_index(drop=True)\n",
        "  new_row = {\"product_number\":product_id,\"first_date\":data_cut['date'][0],\n",
        "             \"last_date\":data_cut['date'][len(data_cut['date'])-1], \"number_of_weeks\":data_cut['date'].nunique()}\n",
        "  data_dates = data_dates.append(new_row, ignore_index=True)\n",
        "  return data_dates\n",
        "\n",
        "for product_name in data['product_number'].unique():\n",
        "  data_dates= find_min_max_of_product(product_name,data_dates, data)\n",
        "\n",
        "# Calculate number of weeks that are possible between dates.\n",
        "data_dates['weeks_between'] =(data_dates['last_date']-data_dates['first_date']).apply(lambda x: x/np.timedelta64(1,'W')+1)\n",
        "data_dates= data_dates.drop(0).reset_index(drop=True)\n",
        "\n",
        "# Show % value of missing weeks in the data\n",
        "ds = data_dates[data_dates['number_of_weeks']!=data_dates['weeks_between']].sort_values('first_date',ascending=True)\n",
        "ds['percentage'] = ds['number_of_weeks']/ds['weeks_between']*100\n",
        "ds.sort_values('percentage',ascending=True).head(2)"
      ],
      "metadata": {
        "colab": {
          "base_uri": "https://localhost:8080/",
          "height": 112
        },
        "id": "HJUQJuQSw-4I",
        "outputId": "72338ef0-f8b4-4c61-9483-dcfd8c924def"
      },
      "execution_count": 75,
      "outputs": [
        {
          "output_type": "execute_result",
          "data": {
            "text/plain": [
              "   product_number first_date  last_date  number_of_weeks  weeks_between  \\\n",
              "93         236880 2020-10-17 2023-05-06               70          134.0   \n",
              "54         148050 2022-01-29 2023-05-06               41           67.0   \n",
              "\n",
              "    percentage  \n",
              "93   52.238806  \n",
              "54   61.194030  "
            ],
            "text/html": [
              "\n",
              "  <div id=\"df-be4c5f80-e0e6-4e63-b312-6fb69f5a2f25\">\n",
              "    <div class=\"colab-df-container\">\n",
              "      <div>\n",
              "<style scoped>\n",
              "    .dataframe tbody tr th:only-of-type {\n",
              "        vertical-align: middle;\n",
              "    }\n",
              "\n",
              "    .dataframe tbody tr th {\n",
              "        vertical-align: top;\n",
              "    }\n",
              "\n",
              "    .dataframe thead th {\n",
              "        text-align: right;\n",
              "    }\n",
              "</style>\n",
              "<table border=\"1\" class=\"dataframe\">\n",
              "  <thead>\n",
              "    <tr style=\"text-align: right;\">\n",
              "      <th></th>\n",
              "      <th>product_number</th>\n",
              "      <th>first_date</th>\n",
              "      <th>last_date</th>\n",
              "      <th>number_of_weeks</th>\n",
              "      <th>weeks_between</th>\n",
              "      <th>percentage</th>\n",
              "    </tr>\n",
              "  </thead>\n",
              "  <tbody>\n",
              "    <tr>\n",
              "      <th>93</th>\n",
              "      <td>236880</td>\n",
              "      <td>2020-10-17</td>\n",
              "      <td>2023-05-06</td>\n",
              "      <td>70</td>\n",
              "      <td>134.0</td>\n",
              "      <td>52.238806</td>\n",
              "    </tr>\n",
              "    <tr>\n",
              "      <th>54</th>\n",
              "      <td>148050</td>\n",
              "      <td>2022-01-29</td>\n",
              "      <td>2023-05-06</td>\n",
              "      <td>41</td>\n",
              "      <td>67.0</td>\n",
              "      <td>61.194030</td>\n",
              "    </tr>\n",
              "  </tbody>\n",
              "</table>\n",
              "</div>\n",
              "      <button class=\"colab-df-convert\" onclick=\"convertToInteractive('df-be4c5f80-e0e6-4e63-b312-6fb69f5a2f25')\"\n",
              "              title=\"Convert this dataframe to an interactive table.\"\n",
              "              style=\"display:none;\">\n",
              "        \n",
              "  <svg xmlns=\"http://www.w3.org/2000/svg\" height=\"24px\"viewBox=\"0 0 24 24\"\n",
              "       width=\"24px\">\n",
              "    <path d=\"M0 0h24v24H0V0z\" fill=\"none\"/>\n",
              "    <path d=\"M18.56 5.44l.94 2.06.94-2.06 2.06-.94-2.06-.94-.94-2.06-.94 2.06-2.06.94zm-11 1L8.5 8.5l.94-2.06 2.06-.94-2.06-.94L8.5 2.5l-.94 2.06-2.06.94zm10 10l.94 2.06.94-2.06 2.06-.94-2.06-.94-.94-2.06-.94 2.06-2.06.94z\"/><path d=\"M17.41 7.96l-1.37-1.37c-.4-.4-.92-.59-1.43-.59-.52 0-1.04.2-1.43.59L10.3 9.45l-7.72 7.72c-.78.78-.78 2.05 0 2.83L4 21.41c.39.39.9.59 1.41.59.51 0 1.02-.2 1.41-.59l7.78-7.78 2.81-2.81c.8-.78.8-2.07 0-2.86zM5.41 20L4 18.59l7.72-7.72 1.47 1.35L5.41 20z\"/>\n",
              "  </svg>\n",
              "      </button>\n",
              "      \n",
              "  <style>\n",
              "    .colab-df-container {\n",
              "      display:flex;\n",
              "      flex-wrap:wrap;\n",
              "      gap: 12px;\n",
              "    }\n",
              "\n",
              "    .colab-df-convert {\n",
              "      background-color: #E8F0FE;\n",
              "      border: none;\n",
              "      border-radius: 50%;\n",
              "      cursor: pointer;\n",
              "      display: none;\n",
              "      fill: #1967D2;\n",
              "      height: 32px;\n",
              "      padding: 0 0 0 0;\n",
              "      width: 32px;\n",
              "    }\n",
              "\n",
              "    .colab-df-convert:hover {\n",
              "      background-color: #E2EBFA;\n",
              "      box-shadow: 0px 1px 2px rgba(60, 64, 67, 0.3), 0px 1px 3px 1px rgba(60, 64, 67, 0.15);\n",
              "      fill: #174EA6;\n",
              "    }\n",
              "\n",
              "    [theme=dark] .colab-df-convert {\n",
              "      background-color: #3B4455;\n",
              "      fill: #D2E3FC;\n",
              "    }\n",
              "\n",
              "    [theme=dark] .colab-df-convert:hover {\n",
              "      background-color: #434B5C;\n",
              "      box-shadow: 0px 1px 3px 1px rgba(0, 0, 0, 0.15);\n",
              "      filter: drop-shadow(0px 1px 2px rgba(0, 0, 0, 0.3));\n",
              "      fill: #FFFFFF;\n",
              "    }\n",
              "  </style>\n",
              "\n",
              "      <script>\n",
              "        const buttonEl =\n",
              "          document.querySelector('#df-be4c5f80-e0e6-4e63-b312-6fb69f5a2f25 button.colab-df-convert');\n",
              "        buttonEl.style.display =\n",
              "          google.colab.kernel.accessAllowed ? 'block' : 'none';\n",
              "\n",
              "        async function convertToInteractive(key) {\n",
              "          const element = document.querySelector('#df-be4c5f80-e0e6-4e63-b312-6fb69f5a2f25');\n",
              "          const dataTable =\n",
              "            await google.colab.kernel.invokeFunction('convertToInteractive',\n",
              "                                                     [key], {});\n",
              "          if (!dataTable) return;\n",
              "\n",
              "          const docLinkHtml = 'Like what you see? Visit the ' +\n",
              "            '<a target=\"_blank\" href=https://colab.research.google.com/notebooks/data_table.ipynb>data table notebook</a>'\n",
              "            + ' to learn more about interactive tables.';\n",
              "          element.innerHTML = '';\n",
              "          dataTable['output_type'] = 'display_data';\n",
              "          await google.colab.output.renderOutput(dataTable, element);\n",
              "          const docLink = document.createElement('div');\n",
              "          docLink.innerHTML = docLinkHtml;\n",
              "          element.appendChild(docLink);\n",
              "        }\n",
              "      </script>\n",
              "    </div>\n",
              "  </div>\n",
              "  "
            ]
          },
          "metadata": {},
          "execution_count": 75
        }
      ]
    },
    {
      "cell_type": "code",
      "source": [
        "import seaborn as sns\n",
        "import matplotlib.pyplot as plt\n",
        "\n",
        "def draw_barplot(data):\n",
        "    sns.set(style=\"whitegrid\")\n",
        "    sorted_data = data.sort_values('percentage',ascending=True)\n",
        "    plt.figure(figsize=(10, 6))\n",
        "    ax = sns.barplot(x=sorted_data.product_number, y='percentage', data=sorted_data,\n",
        "                     color='steelblue')\n",
        "    ax.set(xlabel='Product', ylabel='Percentage (%)')\n",
        "    ax.set_title('Missing Weeks Percentage by Product')\n",
        "    plt.xticks(rotation=90)\n",
        "    plt.show()\n",
        "\n",
        "draw_barplot(ds)"
      ],
      "metadata": {
        "colab": {
          "base_uri": "https://localhost:8080/",
          "height": 616
        },
        "id": "mm-c4nGDzDfE",
        "outputId": "c6151e12-e93f-4ebf-ce28-aee2ef21c46d"
      },
      "execution_count": 88,
      "outputs": [
        {
          "output_type": "display_data",
          "data": {
            "text/plain": [
              "<Figure size 1000x600 with 1 Axes>"
            ],
            "image/png": "[encoded data removed]"
          },
          "metadata": {}
        }
      ]
    },
    {
      "cell_type": "code",
      "source": [
        "# Manually selected starting datetime for each product\n",
        "# We set up restrictions for products having <90% data\n",
        "\n",
        "dfs = []\n",
        "config = {\n",
        "    \"236880\":\"202201\",\n",
        "    \"148050\":\"202243\",\n",
        "    \"12831\":\"202221\",\n",
        "    \"48363\":\"202233\",\n",
        "    \"157920\":\"202228\",\n",
        "    \"190491\":\"202227\",\n",
        "    \"46389\":\"202204\",\n",
        "    \"116466\":\"202217\",\n",
        "    \"234906\":\"202204\"\n",
        "}\n",
        "\n",
        "# Clean some missing values\n",
        "for product_id in product_ids:\n",
        "  if product_id in list(config.keys()):\n",
        "    abc = data[(data['product_number'] == product_id) & (data['year_week'] >= config[product_id]) & (data['year_week'] <= '202318')]\n",
        "    dfs.append(abc)\n",
        "  dfs.append(data[data['product_number'] == product_id])\n",
        "\n",
        "df_col_merged = pd.concat(dfs, axis=0)\n",
        "df_col_merged"
      ],
      "metadata": {
        "id": "IvtLwWpGA5TQ"
      },
      "execution_count": 89,
      "outputs": []
    },
    {
      "cell_type": "code",
      "source": [
        "# Sum up inventory units across all vendors to predict total sales for product\n",
        "df_col_mergedd = df_col_merged.groupby(['date', 'year_week', 'product_number']).agg({'sales_units': 'sum', 'inventory_units':'sum'}).reset_index()\n",
        "df_col_mergedd"
      ],
      "metadata": {
        "colab": {
          "base_uri": "https://localhost:8080/",
          "height": 423
        },
        "id": "sYzlIQY5SrRM",
        "outputId": "21dd3f77-548b-4875-cb94-4331010f4332"
      },
      "execution_count": 14,
      "outputs": [
        {
          "output_type": "execute_result",
          "data": {
            "text/plain": [
              "           date year_week product_number  sales_units  inventory_units\n",
              "0    2019-04-13    201915         233919          2.0             20.0\n",
              "1    2019-04-20    201916         233919          3.0             43.0\n",
              "2    2019-04-27    201917         233919        122.0            184.0\n",
              "3    2019-05-04    201918         233919         61.0            219.0\n",
              "4    2019-05-11    201919         233919         33.0            133.0\n",
              "...         ...       ...            ...          ...              ...\n",
              "7704 2023-05-06    202318          92778         36.0             92.0\n",
              "7705 2023-05-06    202318          93765         47.0             31.0\n",
              "7706 2023-05-06    202318          94752         11.0            374.0\n",
              "7707 2023-05-06    202318           9870         10.0            111.0\n",
              "7708 2023-05-06    202318          99687         58.0            232.0\n",
              "\n",
              "[7709 rows x 5 columns]"
            ],
            "text/html": [
              "\n",
              "  <div id=\"df-d242fdba-630a-472d-a4e7-8779bb2075fd\">\n",
              "    <div class=\"colab-df-container\">\n",
              "      <div>\n",
              "<style scoped>\n",
              "    .dataframe tbody tr th:only-of-type {\n",
              "        vertical-align: middle;\n",
              "    }\n",
              "\n",
              "    .dataframe tbody tr th {\n",
              "        vertical-align: top;\n",
              "    }\n",
              "\n",
              "    .dataframe thead th {\n",
              "        text-align: right;\n",
              "    }\n",
              "</style>\n",
              "<table border=\"1\" class=\"dataframe\">\n",
              "  <thead>\n",
              "    <tr style=\"text-align: right;\">\n",
              "      <th></th>\n",
              "      <th>date</th>\n",
              "      <th>year_week</th>\n",
              "      <th>product_number</th>\n",
              "      <th>sales_units</th>\n",
              "      <th>inventory_units</th>\n",
              "    </tr>\n",
              "  </thead>\n",
              "  <tbody>\n",
              "    <tr>\n",
              "      <th>0</th>\n",
              "      <td>2019-04-13</td>\n",
              "      <td>201915</td>\n",
              "      <td>233919</td>\n",
              "      <td>2.0</td>\n",
              "      <td>20.0</td>\n",
              "    </tr>\n",
              "    <tr>\n",
              "      <th>1</th>\n",
              "      <td>2019-04-20</td>\n",
              "      <td>201916</td>\n",
              "      <td>233919</td>\n",
              "      <td>3.0</td>\n",
              "      <td>43.0</td>\n",
              "    </tr>\n",
              "    <tr>\n",
              "      <th>2</th>\n",
              "      <td>2019-04-27</td>\n",
              "      <td>201917</td>\n",
              "      <td>233919</td>\n",
              "      <td>122.0</td>\n",
              "      <td>184.0</td>\n",
              "    </tr>\n",
              "    <tr>\n",
              "      <th>3</th>\n",
              "      <td>2019-05-04</td>\n",
              "      <td>201918</td>\n",
              "      <td>233919</td>\n",
              "      <td>61.0</td>\n",
              "      <td>219.0</td>\n",
              "    </tr>\n",
              "    <tr>\n",
              "      <th>4</th>\n",
              "      <td>2019-05-11</td>\n",
              "      <td>201919</td>\n",
              "      <td>233919</td>\n",
              "      <td>33.0</td>\n",
              "      <td>133.0</td>\n",
              "    </tr>\n",
              "    <tr>\n",
              "      <th>...</th>\n",
              "      <td>...</td>\n",
              "      <td>...</td>\n",
              "      <td>...</td>\n",
              "      <td>...</td>\n",
              "      <td>...</td>\n",
              "    </tr>\n",
              "    <tr>\n",
              "      <th>7704</th>\n",
              "      <td>2023-05-06</td>\n",
              "      <td>202318</td>\n",
              "      <td>92778</td>\n",
              "      <td>36.0</td>\n",
              "      <td>92.0</td>\n",
              "    </tr>\n",
              "    <tr>\n",
              "      <th>7705</th>\n",
              "      <td>2023-05-06</td>\n",
              "      <td>202318</td>\n",
              "      <td>93765</td>\n",
              "      <td>47.0</td>\n",
              "      <td>31.0</td>\n",
              "    </tr>\n",
              "    <tr>\n",
              "      <th>7706</th>\n",
              "      <td>2023-05-06</td>\n",
              "      <td>202318</td>\n",
              "      <td>94752</td>\n",
              "      <td>11.0</td>\n",
              "      <td>374.0</td>\n",
              "    </tr>\n",
              "    <tr>\n",
              "      <th>7707</th>\n",
              "      <td>2023-05-06</td>\n",
              "      <td>202318</td>\n",
              "      <td>9870</td>\n",
              "      <td>10.0</td>\n",
              "      <td>111.0</td>\n",
              "    </tr>\n",
              "    <tr>\n",
              "      <th>7708</th>\n",
              "      <td>2023-05-06</td>\n",
              "      <td>202318</td>\n",
              "      <td>99687</td>\n",
              "      <td>58.0</td>\n",
              "      <td>232.0</td>\n",
              "    </tr>\n",
              "  </tbody>\n",
              "</table>\n",
              "<p>7709 rows × 5 columns</p>\n",
              "</div>\n",
              "      <button class=\"colab-df-convert\" onclick=\"convertToInteractive('df-d242fdba-630a-472d-a4e7-8779bb2075fd')\"\n",
              "              title=\"Convert this dataframe to an interactive table.\"\n",
              "              style=\"display:none;\">\n",
              "        \n",
              "  <svg xmlns=\"http://www.w3.org/2000/svg\" height=\"24px\"viewBox=\"0 0 24 24\"\n",
              "       width=\"24px\">\n",
              "    <path d=\"M0 0h24v24H0V0z\" fill=\"none\"/>\n",
              "    <path d=\"M18.56 5.44l.94 2.06.94-2.06 2.06-.94-2.06-.94-.94-2.06-.94 2.06-2.06.94zm-11 1L8.5 8.5l.94-2.06 2.06-.94-2.06-.94L8.5 2.5l-.94 2.06-2.06.94zm10 10l.94 2.06.94-2.06 2.06-.94-2.06-.94-.94-2.06-.94 2.06-2.06.94z\"/><path d=\"M17.41 7.96l-1.37-1.37c-.4-.4-.92-.59-1.43-.59-.52 0-1.04.2-1.43.59L10.3 9.45l-7.72 7.72c-.78.78-.78 2.05 0 2.83L4 21.41c.39.39.9.59 1.41.59.51 0 1.02-.2 1.41-.59l7.78-7.78 2.81-2.81c.8-.78.8-2.07 0-2.86zM5.41 20L4 18.59l7.72-7.72 1.47 1.35L5.41 20z\"/>\n",
              "  </svg>\n",
              "      </button>\n",
              "      \n",
              "  <style>\n",
              "    .colab-df-container {\n",
              "      display:flex;\n",
              "      flex-wrap:wrap;\n",
              "      gap: 12px;\n",
              "    }\n",
              "\n",
              "    .colab-df-convert {\n",
              "      background-color: #E8F0FE;\n",
              "      border: none;\n",
              "      border-radius: 50%;\n",
              "      cursor: pointer;\n",
              "      display: none;\n",
              "      fill: #1967D2;\n",
              "      height: 32px;\n",
              "      padding: 0 0 0 0;\n",
              "      width: 32px;\n",
              "    }\n",
              "\n",
              "    .colab-df-convert:hover {\n",
              "      background-color: #E2EBFA;\n",
              "      box-shadow: 0px 1px 2px rgba(60, 64, 67, 0.3), 0px 1px 3px 1px rgba(60, 64, 67, 0.15);\n",
              "      fill: #174EA6;\n",
              "    }\n",
              "\n",
              "    [theme=dark] .colab-df-convert {\n",
              "      background-color: #3B4455;\n",
              "      fill: #D2E3FC;\n",
              "    }\n",
              "\n",
              "    [theme=dark] .colab-df-convert:hover {\n",
              "      background-color: #434B5C;\n",
              "      box-shadow: 0px 1px 3px 1px rgba(0, 0, 0, 0.15);\n",
              "      filter: drop-shadow(0px 1px 2px rgba(0, 0, 0, 0.3));\n",
              "      fill: #FFFFFF;\n",
              "    }\n",
              "  </style>\n",
              "\n",
              "      <script>\n",
              "        const buttonEl =\n",
              "          document.querySelector('#df-d242fdba-630a-472d-a4e7-8779bb2075fd button.colab-df-convert');\n",
              "        buttonEl.style.display =\n",
              "          google.colab.kernel.accessAllowed ? 'block' : 'none';\n",
              "\n",
              "        async function convertToInteractive(key) {\n",
              "          const element = document.querySelector('#df-d242fdba-630a-472d-a4e7-8779bb2075fd');\n",
              "          const dataTable =\n",
              "            await google.colab.kernel.invokeFunction('convertToInteractive',\n",
              "                                                     [key], {});\n",
              "          if (!dataTable) return;\n",
              "\n",
              "          const docLinkHtml = 'Like what you see? Visit the ' +\n",
              "            '<a target=\"_blank\" href=https://colab.research.google.com/notebooks/data_table.ipynb>data table notebook</a>'\n",
              "            + ' to learn more about interactive tables.';\n",
              "          element.innerHTML = '';\n",
              "          dataTable['output_type'] = 'display_data';\n",
              "          await google.colab.output.renderOutput(dataTable, element);\n",
              "          const docLink = document.createElement('div');\n",
              "          docLink.innerHTML = docLinkHtml;\n",
              "          element.appendChild(docLink);\n",
              "        }\n",
              "      </script>\n",
              "    </div>\n",
              "  </div>\n",
              "  "
            ]
          },
          "metadata": {},
          "execution_count": 14
        }
      ]
    },
    {
      "cell_type": "code",
      "source": [
        "def generate_year_week_list(start_year, start_week, end_year=2023, end_week=18):\n",
        "    start_date = datetime.datetime.strptime(f'{start_year}-W{start_week}-1', '%Y-W%W-%w')\n",
        "    end_date = datetime.datetime.strptime(f'{end_year}-W{end_week}-1', '%Y-W%W-%w')\n",
        "    current_date = start_date\n",
        "    year_week_list = []\n",
        "    \n",
        "    while current_date <= end_date:\n",
        "        year = current_date.isocalendar()[0]\n",
        "        week = current_date.isocalendar()[1]\n",
        "        year_week_list.append((year, f'{week:02}'))  # Format week number with leading zeros\n",
        "        current_date += datetime.timedelta(weeks=1)\n",
        "\n",
        "    df = pd.DataFrame(year_week_list, columns=['Year', 'Week'])\n",
        "  \n",
        "    return df"
      ],
      "metadata": {
        "id": "CWKCeywKNeDA"
      },
      "execution_count": 91,
      "outputs": []
    },
    {
      "cell_type": "code",
      "source": [
        "import datetime\n",
        "\n",
        "# Generate datetimes for few missing points\n",
        "dfs = []\n",
        "for product_id in df_col_mergedd.product_number.unique():\n",
        "    da = df_col_mergedd[df_col_mergedd['product_number']==product_id]\n",
        "\n",
        "    da = da.sort_values(\"year_week\", ascending=True)\n",
        "    year_week = da.head(1)['year_week'].values[0]\n",
        "\n",
        "    start_year = year_week[:4]\n",
        "    start_week = year_week[-2:]\n",
        "\n",
        "    ab = generate_year_week_list(int(start_year),int(start_week))\n",
        "    ab[\"year_week\"] = ab[\"Year\"].astype(str) + ab['Week'].astype(str)\n",
        "    \n",
        "    abc = ab.merge(da, on='year_week', how='left')\n",
        "    dfs.append(abc)"
      ],
      "metadata": {
        "id": "HAzShEywU3eW"
      },
      "execution_count": 93,
      "outputs": []
    },
    {
      "cell_type": "code",
      "source": [
        "df_col = pd.concat(dfs, axis=0)\n",
        "df_col"
      ],
      "metadata": {
        "id": "hnNUcUIbiXE6",
        "colab": {
          "base_uri": "https://localhost:8080/",
          "height": 423
        },
        "outputId": "809c6e5d-6b85-47f9-c356-3674586af91c"
      },
      "execution_count": 95,
      "outputs": [
        {
          "output_type": "execute_result",
          "data": {
            "text/plain": [
              "    Year Week year_week       date product_number  sales_units  \\\n",
              "0   2019   16    201916 2019-04-20         233919          3.0   \n",
              "1   2019   17    201917 2019-04-27         233919        122.0   \n",
              "2   2019   18    201918 2019-05-04         233919         61.0   \n",
              "3   2019   19    201919 2019-05-11         233919         33.0   \n",
              "4   2019   20    201920 2019-05-18         233919        142.0   \n",
              "..   ...  ...       ...        ...            ...          ...   \n",
              "27  2023   14    202314 2023-04-08         107583         16.0   \n",
              "28  2023   15    202315 2023-04-15         107583         77.0   \n",
              "29  2023   16    202316 2023-04-22         107583        136.0   \n",
              "30  2023   17    202317 2023-04-29         107583        115.0   \n",
              "31  2023   18    202318 2023-05-06         107583         67.0   \n",
              "\n",
              "    inventory_units  \n",
              "0              43.0  \n",
              "1             184.0  \n",
              "2             219.0  \n",
              "3             133.0  \n",
              "4             310.0  \n",
              "..              ...  \n",
              "27            504.0  \n",
              "28            245.0  \n",
              "29            443.0  \n",
              "30            297.0  \n",
              "31            242.0  \n",
              "\n",
              "[8053 rows x 7 columns]"
            ],
            "text/html": [
              "\n",
              "  <div id=\"df-4a3850f7-8193-42ac-a019-494406722d57\">\n",
              "    <div class=\"colab-df-container\">\n",
              "      <div>\n",
              "<style scoped>\n",
              "    .dataframe tbody tr th:only-of-type {\n",
              "        vertical-align: middle;\n",
              "    }\n",
              "\n",
              "    .dataframe tbody tr th {\n",
              "        vertical-align: top;\n",
              "    }\n",
              "\n",
              "    .dataframe thead th {\n",
              "        text-align: right;\n",
              "    }\n",
              "</style>\n",
              "<table border=\"1\" class=\"dataframe\">\n",
              "  <thead>\n",
              "    <tr style=\"text-align: right;\">\n",
              "      <th></th>\n",
              "      <th>Year</th>\n",
              "      <th>Week</th>\n",
              "      <th>year_week</th>\n",
              "      <th>date</th>\n",
              "      <th>product_number</th>\n",
              "      <th>sales_units</th>\n",
              "      <th>inventory_units</th>\n",
              "    </tr>\n",
              "  </thead>\n",
              "  <tbody>\n",
              "    <tr>\n",
              "      <th>0</th>\n",
              "      <td>2019</td>\n",
              "      <td>16</td>\n",
              "      <td>201916</td>\n",
              "      <td>2019-04-20</td>\n",
              "      <td>233919</td>\n",
              "      <td>3.0</td>\n",
              "      <td>43.0</td>\n",
              "    </tr>\n",
              "    <tr>\n",
              "      <th>1</th>\n",
              "      <td>2019</td>\n",
              "      <td>17</td>\n",
              "      <td>201917</td>\n",
              "      <td>2019-04-27</td>\n",
              "      <td>233919</td>\n",
              "      <td>122.0</td>\n",
              "      <td>184.0</td>\n",
              "    </tr>\n",
              "    <tr>\n",
              "      <th>2</th>\n",
              "      <td>2019</td>\n",
              "      <td>18</td>\n",
              "      <td>201918</td>\n",
              "      <td>2019-05-04</td>\n",
              "      <td>233919</td>\n",
              "      <td>61.0</td>\n",
              "      <td>219.0</td>\n",
              "    </tr>\n",
              "    <tr>\n",
              "      <th>3</th>\n",
              "      <td>2019</td>\n",
              "      <td>19</td>\n",
              "      <td>201919</td>\n",
              "      <td>2019-05-11</td>\n",
              "      <td>233919</td>\n",
              "      <td>33.0</td>\n",
              "      <td>133.0</td>\n",
              "    </tr>\n",
              "    <tr>\n",
              "      <th>4</th>\n",
              "      <td>2019</td>\n",
              "      <td>20</td>\n",
              "      <td>201920</td>\n",
              "      <td>2019-05-18</td>\n",
              "      <td>233919</td>\n",
              "      <td>142.0</td>\n",
              "      <td>310.0</td>\n",
              "    </tr>\n",
              "    <tr>\n",
              "      <th>...</th>\n",
              "      <td>...</td>\n",
              "      <td>...</td>\n",
              "      <td>...</td>\n",
              "      <td>...</td>\n",
              "      <td>...</td>\n",
              "      <td>...</td>\n",
              "      <td>...</td>\n",
              "    </tr>\n",
              "    <tr>\n",
              "      <th>27</th>\n",
              "      <td>2023</td>\n",
              "      <td>14</td>\n",
              "      <td>202314</td>\n",
              "      <td>2023-04-08</td>\n",
              "      <td>107583</td>\n",
              "      <td>16.0</td>\n",
              "      <td>504.0</td>\n",
              "    </tr>\n",
              "    <tr>\n",
              "      <th>28</th>\n",
              "      <td>2023</td>\n",
              "      <td>15</td>\n",
              "      <td>202315</td>\n",
              "      <td>2023-04-15</td>\n",
              "      <td>107583</td>\n",
              "      <td>77.0</td>\n",
              "      <td>245.0</td>\n",
              "    </tr>\n",
              "    <tr>\n",
              "      <th>29</th>\n",
              "      <td>2023</td>\n",
              "      <td>16</td>\n",
              "      <td>202316</td>\n",
              "      <td>2023-04-22</td>\n",
              "      <td>107583</td>\n",
              "      <td>136.0</td>\n",
              "      <td>443.0</td>\n",
              "    </tr>\n",
              "    <tr>\n",
              "      <th>30</th>\n",
              "      <td>2023</td>\n",
              "      <td>17</td>\n",
              "      <td>202317</td>\n",
              "      <td>2023-04-29</td>\n",
              "      <td>107583</td>\n",
              "      <td>115.0</td>\n",
              "      <td>297.0</td>\n",
              "    </tr>\n",
              "    <tr>\n",
              "      <th>31</th>\n",
              "      <td>2023</td>\n",
              "      <td>18</td>\n",
              "      <td>202318</td>\n",
              "      <td>2023-05-06</td>\n",
              "      <td>107583</td>\n",
              "      <td>67.0</td>\n",
              "      <td>242.0</td>\n",
              "    </tr>\n",
              "  </tbody>\n",
              "</table>\n",
              "<p>8053 rows × 7 columns</p>\n",
              "</div>\n",
              "      <button class=\"colab-df-convert\" onclick=\"convertToInteractive('df-4a3850f7-8193-42ac-a019-494406722d57')\"\n",
              "              title=\"Convert this dataframe to an interactive table.\"\n",
              "              style=\"display:none;\">\n",
              "        \n",
              "  <svg xmlns=\"http://www.w3.org/2000/svg\" height=\"24px\"viewBox=\"0 0 24 24\"\n",
              "       width=\"24px\">\n",
              "    <path d=\"M0 0h24v24H0V0z\" fill=\"none\"/>\n",
              "    <path d=\"M18.56 5.44l.94 2.06.94-2.06 2.06-.94-2.06-.94-.94-2.06-.94 2.06-2.06.94zm-11 1L8.5 8.5l.94-2.06 2.06-.94-2.06-.94L8.5 2.5l-.94 2.06-2.06.94zm10 10l.94 2.06.94-2.06 2.06-.94-2.06-.94-.94-2.06-.94 2.06-2.06.94z\"/><path d=\"M17.41 7.96l-1.37-1.37c-.4-.4-.92-.59-1.43-.59-.52 0-1.04.2-1.43.59L10.3 9.45l-7.72 7.72c-.78.78-.78 2.05 0 2.83L4 21.41c.39.39.9.59 1.41.59.51 0 1.02-.2 1.41-.59l7.78-7.78 2.81-2.81c.8-.78.8-2.07 0-2.86zM5.41 20L4 18.59l7.72-7.72 1.47 1.35L5.41 20z\"/>\n",
              "  </svg>\n",
              "      </button>\n",
              "      \n",
              "  <style>\n",
              "    .colab-df-container {\n",
              "      display:flex;\n",
              "      flex-wrap:wrap;\n",
              "      gap: 12px;\n",
              "    }\n",
              "\n",
              "    .colab-df-convert {\n",
              "      background-color: #E8F0FE;\n",
              "      border: none;\n",
              "      border-radius: 50%;\n",
              "      cursor: pointer;\n",
              "      display: none;\n",
              "      fill: #1967D2;\n",
              "      height: 32px;\n",
              "      padding: 0 0 0 0;\n",
              "      width: 32px;\n",
              "    }\n",
              "\n",
              "    .colab-df-convert:hover {\n",
              "      background-color: #E2EBFA;\n",
              "      box-shadow: 0px 1px 2px rgba(60, 64, 67, 0.3), 0px 1px 3px 1px rgba(60, 64, 67, 0.15);\n",
              "      fill: #174EA6;\n",
              "    }\n",
              "\n",
              "    [theme=dark] .colab-df-convert {\n",
              "      background-color: #3B4455;\n",
              "      fill: #D2E3FC;\n",
              "    }\n",
              "\n",
              "    [theme=dark] .colab-df-convert:hover {\n",
              "      background-color: #434B5C;\n",
              "      box-shadow: 0px 1px 3px 1px rgba(0, 0, 0, 0.15);\n",
              "      filter: drop-shadow(0px 1px 2px rgba(0, 0, 0, 0.3));\n",
              "      fill: #FFFFFF;\n",
              "    }\n",
              "  </style>\n",
              "\n",
              "      <script>\n",
              "        const buttonEl =\n",
              "          document.querySelector('#df-4a3850f7-8193-42ac-a019-494406722d57 button.colab-df-convert');\n",
              "        buttonEl.style.display =\n",
              "          google.colab.kernel.accessAllowed ? 'block' : 'none';\n",
              "\n",
              "        async function convertToInteractive(key) {\n",
              "          const element = document.querySelector('#df-4a3850f7-8193-42ac-a019-494406722d57');\n",
              "          const dataTable =\n",
              "            await google.colab.kernel.invokeFunction('convertToInteractive',\n",
              "                                                     [key], {});\n",
              "          if (!dataTable) return;\n",
              "\n",
              "          const docLinkHtml = 'Like what you see? Visit the ' +\n",
              "            '<a target=\"_blank\" href=https://colab.research.google.com/notebooks/data_table.ipynb>data table notebook</a>'\n",
              "            + ' to learn more about interactive tables.';\n",
              "          element.innerHTML = '';\n",
              "          dataTable['output_type'] = 'display_data';\n",
              "          await google.colab.output.renderOutput(dataTable, element);\n",
              "          const docLink = document.createElement('div');\n",
              "          docLink.innerHTML = docLinkHtml;\n",
              "          element.appendChild(docLink);\n",
              "        }\n",
              "      </script>\n",
              "    </div>\n",
              "  </div>\n",
              "  "
            ]
          },
          "metadata": {},
          "execution_count": 95
        }
      ]
    },
    {
      "cell_type": "code",
      "source": [
        "# Fill NA with previous calues, we fix it in next steps\n",
        "print(df_col.isna().sum())\n",
        "df_col.fillna(method='ffill', inplace = True)\n",
        "print(df_col.isna().sum())"
      ],
      "metadata": {
        "colab": {
          "base_uri": "https://localhost:8080/"
        },
        "id": "5XrzWqpQPfsu",
        "outputId": "dfa895f8-6ae2-4add-b765-da17d7bd8e3c"
      },
      "execution_count": 96,
      "outputs": [
        {
          "output_type": "stream",
          "name": "stdout",
          "text": [
            "Year                 0\n",
            "Week                 0\n",
            "year_week            0\n",
            "date               352\n",
            "product_number     352\n",
            "sales_units        352\n",
            "inventory_units    352\n",
            "dtype: int64\n",
            "Year               0\n",
            "Week               0\n",
            "year_week          0\n",
            "date               0\n",
            "product_number     0\n",
            "sales_units        0\n",
            "inventory_units    0\n",
            "dtype: int64\n"
          ]
        }
      ]
    },
    {
      "cell_type": "code",
      "source": [],
      "metadata": {
        "id": "ZYmX9KIqUiOa"
      },
      "execution_count": 24,
      "outputs": []
    },
    {
      "cell_type": "code",
      "source": [
        "# Set all dates values that are possible for all products\n",
        "\n",
        "def fix_date(data):\n",
        "  sample = data.sort_values('year_week',ascending=True).reset_index(drop=True)\n",
        "  for i in range(len(sample)-1):\n",
        "    sample['date'][i+1] = sample['date'][i] + datetime.timedelta(weeks = 1)\n",
        "  return sample\n",
        "\n",
        "df_col['date'] = pd.to_datetime(df_col['date'])\n",
        "dfs = []\n",
        "for product_id in df_col.product_number.unique():\n",
        "    da = df_col[df_col['product_number']==product_id]\n",
        "    ab = fix_date(da)\n",
        "    dfs.append(ab)\n",
        "df_col = pd.concat(dfs, axis=0)\n",
        "df_col"
      ],
      "metadata": {
        "id": "gqh3qWsYZko3",
        "colab": {
          "base_uri": "https://localhost:8080/",
          "height": 423
        },
        "outputId": "1fb82b24-1c31-4f9e-8764-680115c6dcf8"
      },
      "execution_count": 98,
      "outputs": [
        {
          "output_type": "execute_result",
          "data": {
            "text/plain": [
              "    Year Week year_week       date product_number  sales_units  \\\n",
              "0   2019   16    201916 2019-04-20         233919          3.0   \n",
              "1   2019   17    201917 2019-04-27         233919        122.0   \n",
              "2   2019   18    201918 2019-05-04         233919         61.0   \n",
              "3   2019   19    201919 2019-05-11         233919         33.0   \n",
              "4   2019   20    201920 2019-05-18         233919        142.0   \n",
              "..   ...  ...       ...        ...            ...          ...   \n",
              "27  2023   14    202314 2023-04-08         107583         16.0   \n",
              "28  2023   15    202315 2023-04-15         107583         77.0   \n",
              "29  2023   16    202316 2023-04-22         107583        136.0   \n",
              "30  2023   17    202317 2023-04-29         107583        115.0   \n",
              "31  2023   18    202318 2023-05-06         107583         67.0   \n",
              "\n",
              "    inventory_units  \n",
              "0              43.0  \n",
              "1             184.0  \n",
              "2             219.0  \n",
              "3             133.0  \n",
              "4             310.0  \n",
              "..              ...  \n",
              "27            504.0  \n",
              "28            245.0  \n",
              "29            443.0  \n",
              "30            297.0  \n",
              "31            242.0  \n",
              "\n",
              "[8053 rows x 7 columns]"
            ],
            "text/html": [
              "\n",
              "  <div id=\"df-32d323a5-2ff0-49d5-b561-8deaa4971836\">\n",
              "    <div class=\"colab-df-container\">\n",
              "      <div>\n",
              "<style scoped>\n",
              "    .dataframe tbody tr th:only-of-type {\n",
              "        vertical-align: middle;\n",
              "    }\n",
              "\n",
              "    .dataframe tbody tr th {\n",
              "        vertical-align: top;\n",
              "    }\n",
              "\n",
              "    .dataframe thead th {\n",
              "        text-align: right;\n",
              "    }\n",
              "</style>\n",
              "<table border=\"1\" class=\"dataframe\">\n",
              "  <thead>\n",
              "    <tr style=\"text-align: right;\">\n",
              "      <th></th>\n",
              "      <th>Year</th>\n",
              "      <th>Week</th>\n",
              "      <th>year_week</th>\n",
              "      <th>date</th>\n",
              "      <th>product_number</th>\n",
              "      <th>sales_units</th>\n",
              "      <th>inventory_units</th>\n",
              "    </tr>\n",
              "  </thead>\n",
              "  <tbody>\n",
              "    <tr>\n",
              "      <th>0</th>\n",
              "      <td>2019</td>\n",
              "      <td>16</td>\n",
              "      <td>201916</td>\n",
              "      <td>2019-04-20</td>\n",
              "      <td>233919</td>\n",
              "      <td>3.0</td>\n",
              "      <td>43.0</td>\n",
              "    </tr>\n",
              "    <tr>\n",
              "      <th>1</th>\n",
              "      <td>2019</td>\n",
              "      <td>17</td>\n",
              "      <td>201917</td>\n",
              "      <td>2019-04-27</td>\n",
              "      <td>233919</td>\n",
              "      <td>122.0</td>\n",
              "      <td>184.0</td>\n",
              "    </tr>\n",
              "    <tr>\n",
              "      <th>2</th>\n",
              "      <td>2019</td>\n",
              "      <td>18</td>\n",
              "      <td>201918</td>\n",
              "      <td>2019-05-04</td>\n",
              "      <td>233919</td>\n",
              "      <td>61.0</td>\n",
              "      <td>219.0</td>\n",
              "    </tr>\n",
              "    <tr>\n",
              "      <th>3</th>\n",
              "      <td>2019</td>\n",
              "      <td>19</td>\n",
              "      <td>201919</td>\n",
              "      <td>2019-05-11</td>\n",
              "      <td>233919</td>\n",
              "      <td>33.0</td>\n",
              "      <td>133.0</td>\n",
              "    </tr>\n",
              "    <tr>\n",
              "      <th>4</th>\n",
              "      <td>2019</td>\n",
              "      <td>20</td>\n",
              "      <td>201920</td>\n",
              "      <td>2019-05-18</td>\n",
              "      <td>233919</td>\n",
              "      <td>142.0</td>\n",
              "      <td>310.0</td>\n",
              "    </tr>\n",
              "    <tr>\n",
              "      <th>...</th>\n",
              "      <td>...</td>\n",
              "      <td>...</td>\n",
              "      <td>...</td>\n",
              "      <td>...</td>\n",
              "      <td>...</td>\n",
              "      <td>...</td>\n",
              "      <td>...</td>\n",
              "    </tr>\n",
              "    <tr>\n",
              "      <th>27</th>\n",
              "      <td>2023</td>\n",
              "      <td>14</td>\n",
              "      <td>202314</td>\n",
              "      <td>2023-04-08</td>\n",
              "      <td>107583</td>\n",
              "      <td>16.0</td>\n",
              "      <td>504.0</td>\n",
              "    </tr>\n",
              "    <tr>\n",
              "      <th>28</th>\n",
              "      <td>2023</td>\n",
              "      <td>15</td>\n",
              "      <td>202315</td>\n",
              "      <td>2023-04-15</td>\n",
              "      <td>107583</td>\n",
              "      <td>77.0</td>\n",
              "      <td>245.0</td>\n",
              "    </tr>\n",
              "    <tr>\n",
              "      <th>29</th>\n",
              "      <td>2023</td>\n",
              "      <td>16</td>\n",
              "      <td>202316</td>\n",
              "      <td>2023-04-22</td>\n",
              "      <td>107583</td>\n",
              "      <td>136.0</td>\n",
              "      <td>443.0</td>\n",
              "    </tr>\n",
              "    <tr>\n",
              "      <th>30</th>\n",
              "      <td>2023</td>\n",
              "      <td>17</td>\n",
              "      <td>202317</td>\n",
              "      <td>2023-04-29</td>\n",
              "      <td>107583</td>\n",
              "      <td>115.0</td>\n",
              "      <td>297.0</td>\n",
              "    </tr>\n",
              "    <tr>\n",
              "      <th>31</th>\n",
              "      <td>2023</td>\n",
              "      <td>18</td>\n",
              "      <td>202318</td>\n",
              "      <td>2023-05-06</td>\n",
              "      <td>107583</td>\n",
              "      <td>67.0</td>\n",
              "      <td>242.0</td>\n",
              "    </tr>\n",
              "  </tbody>\n",
              "</table>\n",
              "<p>8053 rows × 7 columns</p>\n",
              "</div>\n",
              "      <button class=\"colab-df-convert\" onclick=\"convertToInteractive('df-32d323a5-2ff0-49d5-b561-8deaa4971836')\"\n",
              "              title=\"Convert this dataframe to an interactive table.\"\n",
              "              style=\"display:none;\">\n",
              "        \n",
              "  <svg xmlns=\"http://www.w3.org/2000/svg\" height=\"24px\"viewBox=\"0 0 24 24\"\n",
              "       width=\"24px\">\n",
              "    <path d=\"M0 0h24v24H0V0z\" fill=\"none\"/>\n",
              "    <path d=\"M18.56 5.44l.94 2.06.94-2.06 2.06-.94-2.06-.94-.94-2.06-.94 2.06-2.06.94zm-11 1L8.5 8.5l.94-2.06 2.06-.94-2.06-.94L8.5 2.5l-.94 2.06-2.06.94zm10 10l.94 2.06.94-2.06 2.06-.94-2.06-.94-.94-2.06-.94 2.06-2.06.94z\"/><path d=\"M17.41 7.96l-1.37-1.37c-.4-.4-.92-.59-1.43-.59-.52 0-1.04.2-1.43.59L10.3 9.45l-7.72 7.72c-.78.78-.78 2.05 0 2.83L4 21.41c.39.39.9.59 1.41.59.51 0 1.02-.2 1.41-.59l7.78-7.78 2.81-2.81c.8-.78.8-2.07 0-2.86zM5.41 20L4 18.59l7.72-7.72 1.47 1.35L5.41 20z\"/>\n",
              "  </svg>\n",
              "      </button>\n",
              "      \n",
              "  <style>\n",
              "    .colab-df-container {\n",
              "      display:flex;\n",
              "      flex-wrap:wrap;\n",
              "      gap: 12px;\n",
              "    }\n",
              "\n",
              "    .colab-df-convert {\n",
              "      background-color: #E8F0FE;\n",
              "      border: none;\n",
              "      border-radius: 50%;\n",
              "      cursor: pointer;\n",
              "      display: none;\n",
              "      fill: #1967D2;\n",
              "      height: 32px;\n",
              "      padding: 0 0 0 0;\n",
              "      width: 32px;\n",
              "    }\n",
              "\n",
              "    .colab-df-convert:hover {\n",
              "      background-color: #E2EBFA;\n",
              "      box-shadow: 0px 1px 2px rgba(60, 64, 67, 0.3), 0px 1px 3px 1px rgba(60, 64, 67, 0.15);\n",
              "      fill: #174EA6;\n",
              "    }\n",
              "\n",
              "    [theme=dark] .colab-df-convert {\n",
              "      background-color: #3B4455;\n",
              "      fill: #D2E3FC;\n",
              "    }\n",
              "\n",
              "    [theme=dark] .colab-df-convert:hover {\n",
              "      background-color: #434B5C;\n",
              "      box-shadow: 0px 1px 3px 1px rgba(0, 0, 0, 0.15);\n",
              "      filter: drop-shadow(0px 1px 2px rgba(0, 0, 0, 0.3));\n",
              "      fill: #FFFFFF;\n",
              "    }\n",
              "  </style>\n",
              "\n",
              "      <script>\n",
              "        const buttonEl =\n",
              "          document.querySelector('#df-32d323a5-2ff0-49d5-b561-8deaa4971836 button.colab-df-convert');\n",
              "        buttonEl.style.display =\n",
              "          google.colab.kernel.accessAllowed ? 'block' : 'none';\n",
              "\n",
              "        async function convertToInteractive(key) {\n",
              "          const element = document.querySelector('#df-32d323a5-2ff0-49d5-b561-8deaa4971836');\n",
              "          const dataTable =\n",
              "            await google.colab.kernel.invokeFunction('convertToInteractive',\n",
              "                                                     [key], {});\n",
              "          if (!dataTable) return;\n",
              "\n",
              "          const docLinkHtml = 'Like what you see? Visit the ' +\n",
              "            '<a target=\"_blank\" href=https://colab.research.google.com/notebooks/data_table.ipynb>data table notebook</a>'\n",
              "            + ' to learn more about interactive tables.';\n",
              "          element.innerHTML = '';\n",
              "          dataTable['output_type'] = 'display_data';\n",
              "          await google.colab.output.renderOutput(dataTable, element);\n",
              "          const docLink = document.createElement('div');\n",
              "          docLink.innerHTML = docLinkHtml;\n",
              "          element.appendChild(docLink);\n",
              "        }\n",
              "      </script>\n",
              "    </div>\n",
              "  </div>\n",
              "  "
            ]
          },
          "metadata": {},
          "execution_count": 98
        }
      ]
    },
    {
      "cell_type": "code",
      "source": [
        "# Check if there are duplications after our fixing\n",
        "for product_id in df_col.product_number.unique():\n",
        "    da = df_col[df_col['product_number']==product_id]\n",
        "    duplicate_dates = da[da.duplicated('date')]\n",
        "    if len(duplicate_dates)>0:\n",
        "      print(duplicate_dates)"
      ],
      "metadata": {
        "id": "tzT3Y2nfaQiW"
      },
      "execution_count": 99,
      "outputs": []
    },
    {
      "cell_type": "code",
      "source": [
        "df_col.to_csv('data.csv')"
      ],
      "metadata": {
        "id": "tCW5eCVcfI8p"
      },
      "execution_count": 31,
      "outputs": []
    },
    {
      "cell_type": "code",
      "source": [
        "# Read dataset and set Date as the index\n",
        "inventory_data = pd.read_csv('/content/data.csv', usecols =['product_number','inventory_units', \"date\", \"Year\", \"Week\"], parse_dates=[\"date\"], index_col=[\"date\"]).sort_index()\n",
        "inventory_units = pd.DataFrame(inventory_data[[\"product_number\",\"inventory_units\"]])\n",
        "inventory_units.head() "
      ],
      "metadata": {
        "id": "1CajVEYgafeY",
        "colab": {
          "base_uri": "https://localhost:8080/",
          "height": 237
        },
        "outputId": "c61d5f36-d025-407e-8ed9-57153cffed17"
      },
      "execution_count": 100,
      "outputs": [
        {
          "output_type": "execute_result",
          "data": {
            "text/plain": [
              "            product_number  inventory_units\n",
              "date                                       \n",
              "2021-05-15            6909             35.0\n",
              "2021-05-22            6909             70.0\n",
              "2021-05-29            6909            137.0\n",
              "2021-06-05            6909            274.0\n",
              "2021-06-12            6909            333.0"
            ],
            "text/html": [
              "\n",
              "  <div id=\"df-b73052eb-d013-418f-bca1-aca60dd3e6bc\">\n",
              "    <div class=\"colab-df-container\">\n",
              "      <div>\n",
              "<style scoped>\n",
              "    .dataframe tbody tr th:only-of-type {\n",
              "        vertical-align: middle;\n",
              "    }\n",
              "\n",
              "    .dataframe tbody tr th {\n",
              "        vertical-align: top;\n",
              "    }\n",
              "\n",
              "    .dataframe thead th {\n",
              "        text-align: right;\n",
              "    }\n",
              "</style>\n",
              "<table border=\"1\" class=\"dataframe\">\n",
              "  <thead>\n",
              "    <tr style=\"text-align: right;\">\n",
              "      <th></th>\n",
              "      <th>product_number</th>\n",
              "      <th>inventory_units</th>\n",
              "    </tr>\n",
              "    <tr>\n",
              "      <th>date</th>\n",
              "      <th></th>\n",
              "      <th></th>\n",
              "    </tr>\n",
              "  </thead>\n",
              "  <tbody>\n",
              "    <tr>\n",
              "      <th>2021-05-15</th>\n",
              "      <td>6909</td>\n",
              "      <td>35.0</td>\n",
              "    </tr>\n",
              "    <tr>\n",
              "      <th>2021-05-22</th>\n",
              "      <td>6909</td>\n",
              "      <td>70.0</td>\n",
              "    </tr>\n",
              "    <tr>\n",
              "      <th>2021-05-29</th>\n",
              "      <td>6909</td>\n",
              "      <td>137.0</td>\n",
              "    </tr>\n",
              "    <tr>\n",
              "      <th>2021-06-05</th>\n",
              "      <td>6909</td>\n",
              "      <td>274.0</td>\n",
              "    </tr>\n",
              "    <tr>\n",
              "      <th>2021-06-12</th>\n",
              "      <td>6909</td>\n",
              "      <td>333.0</td>\n",
              "    </tr>\n",
              "  </tbody>\n",
              "</table>\n",
              "</div>\n",
              "      <button class=\"colab-df-convert\" onclick=\"convertToInteractive('df-b73052eb-d013-418f-bca1-aca60dd3e6bc')\"\n",
              "              title=\"Convert this dataframe to an interactive table.\"\n",
              "              style=\"display:none;\">\n",
              "        \n",
              "  <svg xmlns=\"http://www.w3.org/2000/svg\" height=\"24px\"viewBox=\"0 0 24 24\"\n",
              "       width=\"24px\">\n",
              "    <path d=\"M0 0h24v24H0V0z\" fill=\"none\"/>\n",
              "    <path d=\"M18.56 5.44l.94 2.06.94-2.06 2.06-.94-2.06-.94-.94-2.06-.94 2.06-2.06.94zm-11 1L8.5 8.5l.94-2.06 2.06-.94-2.06-.94L8.5 2.5l-.94 2.06-2.06.94zm10 10l.94 2.06.94-2.06 2.06-.94-2.06-.94-.94-2.06-.94 2.06-2.06.94z\"/><path d=\"M17.41 7.96l-1.37-1.37c-.4-.4-.92-.59-1.43-.59-.52 0-1.04.2-1.43.59L10.3 9.45l-7.72 7.72c-.78.78-.78 2.05 0 2.83L4 21.41c.39.39.9.59 1.41.59.51 0 1.02-.2 1.41-.59l7.78-7.78 2.81-2.81c.8-.78.8-2.07 0-2.86zM5.41 20L4 18.59l7.72-7.72 1.47 1.35L5.41 20z\"/>\n",
              "  </svg>\n",
              "      </button>\n",
              "      \n",
              "  <style>\n",
              "    .colab-df-container {\n",
              "      display:flex;\n",
              "      flex-wrap:wrap;\n",
              "      gap: 12px;\n",
              "    }\n",
              "\n",
              "    .colab-df-convert {\n",
              "      background-color: #E8F0FE;\n",
              "      border: none;\n",
              "      border-radius: 50%;\n",
              "      cursor: pointer;\n",
              "      display: none;\n",
              "      fill: #1967D2;\n",
              "      height: 32px;\n",
              "      padding: 0 0 0 0;\n",
              "      width: 32px;\n",
              "    }\n",
              "\n",
              "    .colab-df-convert:hover {\n",
              "      background-color: #E2EBFA;\n",
              "      box-shadow: 0px 1px 2px rgba(60, 64, 67, 0.3), 0px 1px 3px 1px rgba(60, 64, 67, 0.15);\n",
              "      fill: #174EA6;\n",
              "    }\n",
              "\n",
              "    [theme=dark] .colab-df-convert {\n",
              "      background-color: #3B4455;\n",
              "      fill: #D2E3FC;\n",
              "    }\n",
              "\n",
              "    [theme=dark] .colab-df-convert:hover {\n",
              "      background-color: #434B5C;\n",
              "      box-shadow: 0px 1px 3px 1px rgba(0, 0, 0, 0.15);\n",
              "      filter: drop-shadow(0px 1px 2px rgba(0, 0, 0, 0.3));\n",
              "      fill: #FFFFFF;\n",
              "    }\n",
              "  </style>\n",
              "\n",
              "      <script>\n",
              "        const buttonEl =\n",
              "          document.querySelector('#df-b73052eb-d013-418f-bca1-aca60dd3e6bc button.colab-df-convert');\n",
              "        buttonEl.style.display =\n",
              "          google.colab.kernel.accessAllowed ? 'block' : 'none';\n",
              "\n",
              "        async function convertToInteractive(key) {\n",
              "          const element = document.querySelector('#df-b73052eb-d013-418f-bca1-aca60dd3e6bc');\n",
              "          const dataTable =\n",
              "            await google.colab.kernel.invokeFunction('convertToInteractive',\n",
              "                                                     [key], {});\n",
              "          if (!dataTable) return;\n",
              "\n",
              "          const docLinkHtml = 'Like what you see? Visit the ' +\n",
              "            '<a target=\"_blank\" href=https://colab.research.google.com/notebooks/data_table.ipynb>data table notebook</a>'\n",
              "            + ' to learn more about interactive tables.';\n",
              "          element.innerHTML = '';\n",
              "          dataTable['output_type'] = 'display_data';\n",
              "          await google.colab.output.renderOutput(dataTable, element);\n",
              "          const docLink = document.createElement('div');\n",
              "          docLink.innerHTML = docLinkHtml;\n",
              "          element.appendChild(docLink);\n",
              "        }\n",
              "      </script>\n",
              "    </div>\n",
              "  </div>\n",
              "  "
            ]
          },
          "metadata": {},
          "execution_count": 100
        }
      ]
    },
    {
      "cell_type": "code",
      "source": [
        "#Get the timesteps and prices\n",
        "timesteps = inventory_units.index.to_numpy()\n",
        "inventory = inventory_units[\"inventory_units\"].to_numpy()\n",
        "\n",
        "timesteps[:10], inventory[:10]"
      ],
      "metadata": {
        "id": "fxLtaQq1cQgb",
        "colab": {
          "base_uri": "https://localhost:8080/"
        },
        "outputId": "334a1a9b-e111-4fc9-f311-6efabaad622d"
      },
      "execution_count": 37,
      "outputs": [
        {
          "output_type": "execute_result",
          "data": {
            "text/plain": [
              "(array(['2021-05-15T00:00:00.000000000', '2021-05-22T00:00:00.000000000',\n",
              "        '2021-05-29T00:00:00.000000000', '2021-06-05T00:00:00.000000000',\n",
              "        '2021-06-12T00:00:00.000000000', '2021-06-19T00:00:00.000000000',\n",
              "        '2021-06-26T00:00:00.000000000', '2021-07-03T00:00:00.000000000',\n",
              "        '2021-07-10T00:00:00.000000000', '2021-07-17T00:00:00.000000000'],\n",
              "       dtype='datetime64[ns]'),\n",
              " array([ 35.,  70., 137., 274., 333., 349., 328., 288., 234., 131.]))"
            ]
          },
          "metadata": {},
          "execution_count": 37
        }
      ]
    },
    {
      "cell_type": "code",
      "source": [
        "# Create train and test splits  for time series data\n",
        "split_size = int(0.8 * len(inventory)) # 90% train, 10% test\n",
        "\n",
        "# Create train data splits \n",
        "X_train, y_train = timesteps[:split_size], inventory[:split_size]\n",
        "\n",
        "# Create test data splits \n",
        "X_test, y_test = timesteps[split_size:], inventory[split_size:]\n",
        "\n",
        "len(X_train), len(X_test), len(y_train), len(y_test)"
      ],
      "metadata": {
        "id": "IeakpAnLagLz",
        "colab": {
          "base_uri": "https://localhost:8080/"
        },
        "outputId": "38021bba-d250-4d2c-d3f7-22a059c7c3a0"
      },
      "execution_count": 38,
      "outputs": [
        {
          "output_type": "execute_result",
          "data": {
            "text/plain": [
              "(83, 21, 83, 21)"
            ]
          },
          "metadata": {},
          "execution_count": 38
        }
      ]
    },
    {
      "cell_type": "code",
      "source": [
        "# Create a function to plot time series data\n",
        "def plot_time_series(timesteps, values, format='.', start=0, end=None, label=None):\n",
        "  \"\"\"\n",
        "  Plots a timesteps (a series of points in time) against values (a series of values across timesteps).\n",
        "\n",
        "  \"\"\"\n",
        "  # Plot the series\n",
        "  plt.plot(timesteps[start:end], values[start:end], format, label=label)\n",
        "  plt.xlabel(\"Time\")\n",
        "  plt.ylabel(\"Inventory\")\n",
        "  if label:\n",
        "    plt.legend(fontsize=14)\n",
        "  plt.grid(True)"
      ],
      "metadata": {
        "id": "0U38IYd9afGk"
      },
      "execution_count": 105,
      "outputs": []
    },
    {
      "cell_type": "code",
      "source": [
        "fig = plt.figure(figsize=(15,10))\n",
        "plot_time_series(timesteps=X_train, values=y_train, format='-', label=\"Train data\")\n",
        "plot_time_series(timesteps=X_test, values=y_test, format='-', label=\"Test data\")"
      ],
      "metadata": {
        "colab": {
          "base_uri": "https://localhost:8080/",
          "height": 702
        },
        "id": "yPi5G9Xlgnhu",
        "outputId": "d19a7a18-635a-4d35-dc24-ed44eb6bc5e0"
      },
      "execution_count": 106,
      "outputs": [
        {
          "output_type": "display_data",
          "data": {
            "text/plain": [
              "<Figure size 1500x1000 with 1 Axes>"
            ],
            "image/png": "[encoded data removed]"
          },
          "metadata": {}
        }
      ]
    },
    {
      "cell_type": "markdown",
      "source": [
        "#Baseline model\n"
      ],
      "metadata": {
        "id": "Kdjamjo1gt5M"
      }
    },
    {
      "cell_type": "code",
      "source": [
        "# Create a naïve forecast\n",
        "naive_forecast = y_test[:-1] # Naïve forecast equals every value excluding the last value\n",
        "naive_forecast[:10], naive_forecast[-10:]"
      ],
      "metadata": {
        "colab": {
          "base_uri": "https://localhost:8080/"
        },
        "id": "FL9neunUgwUi",
        "outputId": "b0069958-d596-4827-8b82-420aa5ad8dba"
      },
      "execution_count": 107,
      "outputs": [
        {
          "output_type": "execute_result",
          "data": {
            "text/plain": [
              "(array([128.,  85., 106.,  33.,  53.,   6.,  42.,   1.,  37.,  32.]),\n",
              " array([ 25.,  27.,  40.,  32.,  38.,  46., 109., 159., 113.,  90.]))"
            ]
          },
          "metadata": {},
          "execution_count": 107
        }
      ]
    },
    {
      "cell_type": "code",
      "source": [
        "# Plot test data and naive forecast\n",
        "plt.figure(figsize=(10, 7))\n",
        "plot_time_series(timesteps=X_test, values=y_test,  format=\"-\", label=\"Test data\")\n",
        "plot_time_series(timesteps=X_test[1:], values=naive_forecast, format=\"-\", label=\"Naive forecast\");"
      ],
      "metadata": {
        "colab": {
          "base_uri": "https://localhost:8080/",
          "height": 627
        },
        "id": "-TKhzblTg0eO",
        "outputId": "7c34c012-a3c3-48f0-9887-62b73926fee5"
      },
      "execution_count": 108,
      "outputs": [
        {
          "output_type": "display_data",
          "data": {
            "text/plain": [
              "<Figure size 1000x700 with 1 Axes>"
            ],
            "image/png": "[encoded data removed]"
          },
          "metadata": {}
        }
      ]
    },
    {
      "cell_type": "code",
      "source": [
        "# Create R-squared function\n",
        "def R_squared(y_true, y_pred):\n",
        "  \"\"\"\n",
        "  Implement R-squared\n",
        "  \"\"\"\n",
        "  metric = tfa.metrics.r_square.RSquare()\n",
        "  metric.update_state(y_true, y_pred)\n",
        "  result = metric.result()\n",
        "  return result\n",
        "\n",
        "# Create Relative Absolute Error\n",
        "def relative_absolute_error(y_true, y_pred):\n",
        "    numerator = np.sum(np.abs(y_pred - y_true))\n",
        "    denominator = np.sum(np.abs(np.mean(y_true) - y_true))\n",
        "    return numerator / denominator\n",
        "\n",
        "# Create Relative Squared Error\n",
        "def relative_squared_error(y_true, y_pred):\n",
        "    numerator = np.sum((y_true-y_pred)**2)\n",
        "    denominator = np.sum((y_true - np.mean(y_true))**2)\n",
        "    return numerator / denominator"
      ],
      "metadata": {
        "id": "A-hGLwJeg4u1"
      },
      "execution_count": 109,
      "outputs": []
    },
    {
      "cell_type": "code",
      "source": [
        "def evaluate_preds(y_true, y_pred):\n",
        "  # case data float32 (for metric calculations)\n",
        "  y_true = tf.cast(y_true, dtype=tf.float32)\n",
        "  y_pred = tf.cast(y_pred, dtype=tf.float32)\n",
        "\n",
        "  # Calculate metrics\n",
        "  mae = tf.keras.metrics.mean_absolute_error(y_true, y_pred)\n",
        "  mse = tf.keras.metrics.mean_squared_error(y_true, y_pred)\n",
        "  rmse = tf.sqrt(mse)\n",
        "  r_squared = R_squared(y_true, y_pred)\n",
        "  rae = relative_absolute_error(y_true, y_pred)\n",
        "  rse = relative_squared_error(y_true, y_pred)\n",
        "\n",
        "  \n",
        "  return {\"mae\": mae.numpy(),\n",
        "          \"mse\": mse.numpy(),\n",
        "          \"rmse\": rmse.numpy(),\n",
        "          \"rae\": rae,\n",
        "          \"rse\": rse,\n",
        "          \"r-squared\": r_squared.numpy()}"
      ],
      "metadata": {
        "id": "J16-lldFg6pB"
      },
      "execution_count": 110,
      "outputs": []
    },
    {
      "cell_type": "code",
      "source": [
        "# Evaluate naive model\n",
        "naive_results = evaluate_preds(y_true=y_test[1:],\n",
        "                               y_pred=naive_forecast)\n",
        "naive_results"
      ],
      "metadata": {
        "colab": {
          "base_uri": "https://localhost:8080/"
        },
        "id": "WoK_MY_fg9Bd",
        "outputId": "e2b17834-feb8-412c-a091-a213f8df8648"
      },
      "execution_count": 111,
      "outputs": [
        {
          "output_type": "execute_result",
          "data": {
            "text/plain": [
              "{'mae': 27.5,\n",
              " 'mse': 1201.5,\n",
              " 'rmse': 34.66266,\n",
              " 'rae': 0.8010485,\n",
              " 'rse': 0.7427258,\n",
              " 'r-squared': 0.2572744}"
            ]
          },
          "metadata": {},
          "execution_count": 111
        }
      ]
    },
    {
      "cell_type": "code",
      "source": [
        "HORIZON = 1 # predict 1 step at a time\n",
        "WINDOW_SIZE = 4 # Use 4 month timesteps to predict the horizon"
      ],
      "metadata": {
        "id": "nHC5NelahMJw"
      },
      "execution_count": 112,
      "outputs": []
    },
    {
      "cell_type": "code",
      "source": [
        "# Create function to label windowed data\n",
        "def get_labelled_windows(x, horizon=1):\n",
        "  \"\"\"\n",
        "  Creates labels for windowed dataset.\n",
        "\n",
        "  E.g. if horizon=1 (default)\n",
        "  Input: [1, 2, 3, 4, 5, 6] -> Output: ([1, 2, 3, 4, 5], [6])\n",
        "  \"\"\"\n",
        "  return x[:, :-horizon], x[:, -horizon:]\n",
        "     "
      ],
      "metadata": {
        "id": "xy0W4RZvhN9O"
      },
      "execution_count": 113,
      "outputs": []
    },
    {
      "cell_type": "code",
      "source": [
        "# Create function to view NumPy arrays as windows \n",
        "def make_windows(x, window_size=4, horizon=1):\n",
        "  \"\"\"\n",
        "  Turns a 1D array into a 2D array of sequential windows of window_size.\n",
        "  \"\"\"\n",
        "  window_step = np.expand_dims(np.arange(window_size+horizon), axis=0)\n",
        "  # print(f\"Window step:\\n {window_step}\")\n",
        "\n",
        "  window_indexes = window_step + np.expand_dims(np.arange(len(x)-(window_size+horizon-1)), axis=0).T # create 2D array of windows of size window_size\n",
        "\n",
        "  windowed_array = x[window_indexes]\n",
        "  windows, labels = get_labelled_windows(windowed_array, horizon=horizon)\n",
        "\n",
        "  return windows, labels"
      ],
      "metadata": {
        "id": "8Fk6L5ZGhP3Q"
      },
      "execution_count": 114,
      "outputs": []
    },
    {
      "cell_type": "code",
      "source": [
        "full_windows, full_labels = make_windows(inventory, window_size=WINDOW_SIZE, horizon=HORIZON)\n",
        "len(full_windows), len(full_labels)"
      ],
      "metadata": {
        "colab": {
          "base_uri": "https://localhost:8080/"
        },
        "id": "bnJ5v_-mhSKm",
        "outputId": "24d5a10c-0f58-4c1d-ed72-3a40a8bb05f6"
      },
      "execution_count": 115,
      "outputs": [
        {
          "output_type": "execute_result",
          "data": {
            "text/plain": [
              "(100, 100)"
            ]
          },
          "metadata": {},
          "execution_count": 115
        }
      ]
    },
    {
      "cell_type": "code",
      "source": [
        "# View the first 3 windows and labels\n",
        "for i in range(3):\n",
        "  print(f\"Window: {full_windows[i]} -> Label: {full_labels[i]}\")"
      ],
      "metadata": {
        "colab": {
          "base_uri": "https://localhost:8080/"
        },
        "id": "Pv9IsSxEheyq",
        "outputId": "652f009d-7ba3-4dec-d103-37b01a778bec"
      },
      "execution_count": 116,
      "outputs": [
        {
          "output_type": "stream",
          "name": "stdout",
          "text": [
            "Window: [ 35.  70. 137. 274.] -> Label: [333.]\n",
            "Window: [ 70. 137. 274. 333.] -> Label: [349.]\n",
            "Window: [137. 274. 333. 349.] -> Label: [328.]\n"
          ]
        }
      ]
    },
    {
      "cell_type": "code",
      "source": [
        "# Make the train/test splits\n",
        "def make_train_test_splits(windows, labels, test_split=0.1):\n",
        "  \"\"\"\n",
        "  Splits matching pairs of windows and labels into train and test splits.\n",
        "  \"\"\"\n",
        "  split_size = int(len(windows) * (1-test_split))\n",
        "  train_windows = windows[:split_size]\n",
        "  train_labels = labels[:split_size]\n",
        "  test_windows = windows[split_size:]\n",
        "  test_labels = labels[split_size:]\n",
        "  return train_windows, test_windows, train_labels, test_labels"
      ],
      "metadata": {
        "id": "wE9syQy6ht6v"
      },
      "execution_count": 117,
      "outputs": []
    },
    {
      "cell_type": "code",
      "source": [
        "train_windows, test_windows, train_labels, test_labels = make_train_test_splits(full_windows, full_labels)\n",
        "len(train_windows), len(test_windows), len(train_labels), len(test_labels)"
      ],
      "metadata": {
        "colab": {
          "base_uri": "https://localhost:8080/"
        },
        "id": "G5pHL331hwC3",
        "outputId": "f4459cec-f696-4c8f-cd75-df6c018830a1"
      },
      "execution_count": 118,
      "outputs": [
        {
          "output_type": "execute_result",
          "data": {
            "text/plain": [
              "(90, 10, 90, 10)"
            ]
          },
          "metadata": {},
          "execution_count": 118
        }
      ]
    },
    {
      "cell_type": "code",
      "source": [
        "train_windows[:5], train_labels[:5]"
      ],
      "metadata": {
        "colab": {
          "base_uri": "https://localhost:8080/"
        },
        "id": "T6TP2yEihzto",
        "outputId": "a5f2ddc8-cea5-41e2-9f50-2c8d40ab3b86"
      },
      "execution_count": null,
      "outputs": [
        {
          "output_type": "execute_result",
          "data": {
            "text/plain": [
              "(array([[ 35.,  70., 137., 274.],\n",
              "        [ 70., 137., 274., 333.],\n",
              "        [137., 274., 333., 349.],\n",
              "        [274., 333., 349., 328.],\n",
              "        [333., 349., 328., 288.]]),\n",
              " array([[333.],\n",
              "        [349.],\n",
              "        [328.],\n",
              "        [288.],\n",
              "        [234.]]))"
            ]
          },
          "metadata": {},
          "execution_count": 98
        }
      ]
    },
    {
      "cell_type": "code",
      "source": [
        "# Create a function to implement a ModelCheckpoint callback with a specific filename \n",
        "def create_model_checkpoint(model_name, save_path=\"model_experiments\"):\n",
        "  return tf.keras.callbacks.ModelCheckpoint(filepath=os.path.join(save_path, model_name), # create filepath to save model\n",
        "                                            verbose=0, # only output a limited amount of text\n",
        "                                            save_best_only=True) # save only the best model to file"
      ],
      "metadata": {
        "id": "iSLss1rrh8P0"
      },
      "execution_count": null,
      "outputs": []
    },
    {
      "cell_type": "code",
      "source": [
        "# Set random seed for as reproducible results as possible\n",
        "tf.random.set_seed(42)\n",
        "\n",
        "# Construct model\n",
        "model_1 = tf.keras.Sequential([\n",
        "  layers.Dense(64, activation=\"relu\"),\n",
        "  layers.Dense(HORIZON)      \n",
        "], name=\"model_1_dense\") # give the model a name so we can save it\n",
        "\n",
        "# Compile model\n",
        "model_1.compile(\n",
        "                optimizer=tf.keras.optimizers.Adam(),\n",
        "                loss='mse',\n",
        "                metrics=[tf.keras.metrics.RootMeanSquaredError()]) \n",
        "\n",
        "# Fit model\n",
        "model_1.fit(x=train_windows, # train windows of 4 timesteps of maize prices\n",
        "            y=train_labels, # horizon value of 1\n",
        "            epochs=100,\n",
        "            verbose=1,\n",
        "            batch_size=8,\n",
        "            validation_data=(test_windows, test_labels),\n",
        "            callbacks=[create_model_checkpoint(model_name=model_1.name)]) # create ModelCheckpoint callback to save best model"
      ],
      "metadata": {
        "colab": {
          "base_uri": "https://localhost:8080/"
        },
        "id": "7Ab_9Q8ciAO-",
        "outputId": "fb8b4fe2-f2cb-4183-b010-32d79448c1b5"
      },
      "execution_count": null,
      "outputs": [
        {
          "output_type": "stream",
          "name": "stdout",
          "text": [
            "Epoch 1/100\n",
            " 1/12 [=>............................] - ETA: 10s - loss: 16890.5527 - root_mean_squared_error: 129.9637"
          ]
        },
        {
          "output_type": "stream",
          "name": "stderr",
          "text": [
            "WARNING:absl:Found untraced functions such as _update_step_xla while saving (showing 1 of 1). These functions will not be directly callable after loading.\n"
          ]
        },
        {
          "output_type": "stream",
          "name": "stdout",
          "text": [
            "\b\b\b\b\b\b\b\b\b\b\b\b\b\b\b\b\b\b\b\b\b\b\b\b\b\b\b\b\b\b\b\b\b\b\b\b\b\b\b\b\b\b\b\b\b\b\b\b\b\b\b\b\b\b\b\b\b\b\b\b\b\b\b\b\b\b\b\b\b\b\b\b\b\b\b\b\b\b\b\b\b\b\b\b\b\b\b\b\b\b\b\b\b\b\b\b\b\b\b\b\b\b\b\b\r12/12 [==============================] - 2s 58ms/step - loss: 12969.3916 - root_mean_squared_error: 113.8832 - val_loss: 4234.3950 - val_root_mean_squared_error: 65.0722\n",
            "Epoch 2/100\n",
            " 1/12 [=>............................] - ETA: 0s - loss: 6999.6108 - root_mean_squared_error: 83.6637"
          ]
        },
        {
          "output_type": "stream",
          "name": "stderr",
          "text": [
            "WARNING:absl:Found untraced functions such as _update_step_xla while saving (showing 1 of 1). These functions will not be directly callable after loading.\n"
          ]
        },
        {
          "output_type": "stream",
          "name": "stdout",
          "text": [
            "\b\b\b\b\b\b\b\b\b\b\b\b\b\b\b\b\b\b\b\b\b\b\b\b\b\b\b\b\b\b\b\b\b\b\b\b\b\b\b\b\b\b\b\b\b\b\b\b\b\b\b\b\b\b\b\b\b\b\b\b\b\b\b\b\b\b\b\b\b\b\b\b\b\b\b\b\b\b\b\b\b\b\b\b\b\b\b\b\b\b\b\b\b\b\b\b\b\b\b\b\b\r12/12 [==============================] - 0s 44ms/step - loss: 6637.9863 - root_mean_squared_error: 81.4738 - val_loss: 2578.3911 - val_root_mean_squared_error: 50.7779\n",
            "Epoch 3/100\n",
            " 1/12 [=>............................] - ETA: 0s - loss: 1126.1641 - root_mean_squared_error: 33.5584"
          ]
        },
        {
          "output_type": "stream",
          "name": "stderr",
          "text": [
            "WARNING:absl:Found untraced functions such as _update_step_xla while saving (showing 1 of 1). These functions will not be directly callable after loading.\n"
          ]
        },
        {
          "output_type": "stream",
          "name": "stdout",
          "text": [
            "\b\b\b\b\b\b\b\b\b\b\b\b\b\b\b\b\b\b\b\b\b\b\b\b\b\b\b\b\b\b\b\b\b\b\b\b\b\b\b\b\b\b\b\b\b\b\b\b\b\b\b\b\b\b\b\b\b\b\b\b\b\b\b\b\b\b\b\b\b\b\b\b\b\b\b\b\b\b\b\b\b\b\b\b\b\b\b\b\b\b\b\b\b\b\b\b\b\b\b\b\b\r12/12 [==============================] - 1s 49ms/step - loss: 4127.9819 - root_mean_squared_error: 64.2494 - val_loss: 1766.4314 - val_root_mean_squared_error: 42.0289\n",
            "Epoch 4/100\n",
            " 1/12 [=>............................] - ETA: 0s - loss: 448.8884 - root_mean_squared_error: 21.1870"
          ]
        },
        {
          "output_type": "stream",
          "name": "stderr",
          "text": [
            "WARNING:absl:Found untraced functions such as _update_step_xla while saving (showing 1 of 1). These functions will not be directly callable after loading.\n"
          ]
        },
        {
          "output_type": "stream",
          "name": "stdout",
          "text": [
            "\b\b\b\b\b\b\b\b\b\b\b\b\b\b\b\b\b\b\b\b\b\b\b\b\b\b\b\b\b\b\b\b\b\b\b\b\b\b\b\b\b\b\b\b\b\b\b\b\b\b\b\b\b\b\b\b\b\b\b\b\b\b\b\b\b\b\b\b\b\b\b\b\b\b\b\b\b\b\b\b\b\b\b\b\b\b\b\b\b\b\b\b\b\b\b\b\b\b\b\b\r12/12 [==============================] - 0s 45ms/step - loss: 3050.7383 - root_mean_squared_error: 55.2335 - val_loss: 1490.9219 - val_root_mean_squared_error: 38.6125\n",
            "Epoch 5/100\n",
            " 1/12 [=>............................] - ETA: 0s - loss: 3810.4058 - root_mean_squared_error: 61.7285"
          ]
        },
        {
          "output_type": "stream",
          "name": "stderr",
          "text": [
            "WARNING:absl:Found untraced functions such as _update_step_xla while saving (showing 1 of 1). These functions will not be directly callable after loading.\n"
          ]
        },
        {
          "output_type": "stream",
          "name": "stdout",
          "text": [
            "\b\b\b\b\b\b\b\b\b\b\b\b\b\b\b\b\b\b\b\b\b\b\b\b\b\b\b\b\b\b\b\b\b\b\b\b\b\b\b\b\b\b\b\b\b\b\b\b\b\b\b\b\b\b\b\b\b\b\b\b\b\b\b\b\b\b\b\b\b\b\b\b\b\b\b\b\b\b\b\b\b\b\b\b\b\b\b\b\b\b\b\b\b\b\b\b\b\b\b\b\b\r12/12 [==============================] - 1s 46ms/step - loss: 2768.5767 - root_mean_squared_error: 52.6173 - val_loss: 1389.9987 - val_root_mean_squared_error: 37.2827\n",
            "Epoch 6/100\n",
            " 1/12 [=>............................] - ETA: 0s - loss: 4602.1069 - root_mean_squared_error: 67.8388"
          ]
        },
        {
          "output_type": "stream",
          "name": "stderr",
          "text": [
            "WARNING:absl:Found untraced functions such as _update_step_xla while saving (showing 1 of 1). These functions will not be directly callable after loading.\n"
          ]
        },
        {
          "output_type": "stream",
          "name": "stdout",
          "text": [
            "\b\b\b\b\b\b\b\b\b\b\b\b\b\b\b\b\b\b\b\b\b\b\b\b\b\b\b\b\b\b\b\b\b\b\b\b\b\b\b\b\b\b\b\b\b\b\b\b\b\b\b\b\b\b\b\b\b\b\b\b\b\b\b\b\b\b\b\b\b\b\b\b\b\b\b\b\b\b\b\b\b\b\b\b\b\b\b\b\b\b\b\b\b\b\b\b\b\b\b\b\b\r12/12 [==============================] - 1s 46ms/step - loss: 2484.8057 - root_mean_squared_error: 49.8478 - val_loss: 1320.4617 - val_root_mean_squared_error: 36.3382\n",
            "Epoch 7/100\n",
            " 1/12 [=>............................] - ETA: 0s - loss: 1597.9736 - root_mean_squared_error: 39.9747"
          ]
        },
        {
          "output_type": "stream",
          "name": "stderr",
          "text": [
            "WARNING:absl:Found untraced functions such as _update_step_xla while saving (showing 1 of 1). These functions will not be directly callable after loading.\n"
          ]
        },
        {
          "output_type": "stream",
          "name": "stdout",
          "text": [
            "\b\b\b\b\b\b\b\b\b\b\b\b\b\b\b\b\b\b\b\b\b\b\b\b\b\b\b\b\b\b\b\b\b\b\b\b\b\b\b\b\b\b\b\b\b\b\b\b\b\b\b\b\b\b\b\b\b\b\b\b\b\b\b\b\b\b\b\b\b\b\b\b\b\b\b\b\b\b\b\b\b\b\b\b\b\b\b\b\b\b\b\b\b\b\b\b\b\b\b\b\b\r12/12 [==============================] - 1s 51ms/step - loss: 2147.2161 - root_mean_squared_error: 46.3381 - val_loss: 1260.1572 - val_root_mean_squared_error: 35.4987\n",
            "Epoch 8/100\n",
            " 1/12 [=>............................] - ETA: 0s - loss: 235.7634 - root_mean_squared_error: 15.3546"
          ]
        },
        {
          "output_type": "stream",
          "name": "stderr",
          "text": [
            "WARNING:absl:Found untraced functions such as _update_step_xla while saving (showing 1 of 1). These functions will not be directly callable after loading.\n"
          ]
        },
        {
          "output_type": "stream",
          "name": "stdout",
          "text": [
            "\b\b\b\b\b\b\b\b\b\b\b\b\b\b\b\b\b\b\b\b\b\b\b\b\b\b\b\b\b\b\b\b\b\b\b\b\b\b\b\b\b\b\b\b\b\b\b\b\b\b\b\b\b\b\b\b\b\b\b\b\b\b\b\b\b\b\b\b\b\b\b\b\b\b\b\b\b\b\b\b\b\b\b\b\b\b\b\b\b\b\b\b\b\b\b\b\b\b\b\b\r12/12 [==============================] - 1s 68ms/step - loss: 1914.9719 - root_mean_squared_error: 43.7604 - val_loss: 1243.9677 - val_root_mean_squared_error: 35.2699\n",
            "Epoch 9/100\n",
            " 1/12 [=>............................] - ETA: 0s - loss: 899.3676 - root_mean_squared_error: 29.9895"
          ]
        },
        {
          "output_type": "stream",
          "name": "stderr",
          "text": [
            "WARNING:absl:Found untraced functions such as _update_step_xla while saving (showing 1 of 1). These functions will not be directly callable after loading.\n"
          ]
        },
        {
          "output_type": "stream",
          "name": "stdout",
          "text": [
            "\b\b\b\b\b\b\b\b\b\b\b\b\b\b\b\b\b\b\b\b\b\b\b\b\b\b\b\b\b\b\b\b\b\b\b\b\b\b\b\b\b\b\b\b\b\b\b\b\b\b\b\b\b\b\b\b\b\b\b\b\b\b\b\b\b\b\b\b\b\b\b\b\b\b\b\b\b\b\b\b\b\b\b\b\b\b\b\b\b\b\b\b\b\b\b\b\b\b\b\b\r12/12 [==============================] - 1s 64ms/step - loss: 1767.3068 - root_mean_squared_error: 42.0393 - val_loss: 1217.8018 - val_root_mean_squared_error: 34.8970\n",
            "Epoch 10/100\n",
            "12/12 [==============================] - 0s 9ms/step - loss: 1652.9440 - root_mean_squared_error: 40.6564 - val_loss: 1219.7900 - val_root_mean_squared_error: 34.9255\n",
            "Epoch 11/100\n",
            " 1/12 [=>............................] - ETA: 0s - loss: 776.2308 - root_mean_squared_error: 27.8609"
          ]
        },
        {
          "output_type": "stream",
          "name": "stderr",
          "text": [
            "WARNING:absl:Found untraced functions such as _update_step_xla while saving (showing 1 of 1). These functions will not be directly callable after loading.\n"
          ]
        },
        {
          "output_type": "stream",
          "name": "stdout",
          "text": [
            "\b\b\b\b\b\b\b\b\b\b\b\b\b\b\b\b\b\b\b\b\b\b\b\b\b\b\b\b\b\b\b\b\b\b\b\b\b\b\b\b\b\b\b\b\b\b\b\b\b\b\b\b\b\b\b\b\b\b\b\b\b\b\b\b\b\b\b\b\b\b\b\b\b\b\b\b\b\b\b\b\b\b\b\b\b\b\b\b\b\b\b\b\b\b\b\b\b\b\b\b\r12/12 [==============================] - 1s 66ms/step - loss: 1551.3253 - root_mean_squared_error: 39.3869 - val_loss: 1179.4247 - val_root_mean_squared_error: 34.3428\n",
            "Epoch 12/100\n",
            " 1/12 [=>............................] - ETA: 0s - loss: 1426.4683 - root_mean_squared_error: 37.7686"
          ]
        },
        {
          "output_type": "stream",
          "name": "stderr",
          "text": [
            "WARNING:absl:Found untraced functions such as _update_step_xla while saving (showing 1 of 1). These functions will not be directly callable after loading.\n"
          ]
        },
        {
          "output_type": "stream",
          "name": "stdout",
          "text": [
            "\b\b\b\b\b\b\b\b\b\b\b\b\b\b\b\b\b\b\b\b\b\b\b\b\b\b\b\b\b\b\b\b\b\b\b\b\b\b\b\b\b\b\b\b\b\b\b\b\b\b\b\b\b\b\b\b\b\b\b\b\b\b\b\b\b\b\b\b\b\b\b\b\b\b\b\b\b\b\b\b\b\b\b\b\b\b\b\b\b\b\b\b\b\b\b\b\b\b\b\b\b\r12/12 [==============================] - 0s 45ms/step - loss: 1461.9561 - root_mean_squared_error: 38.2355 - val_loss: 1158.4108 - val_root_mean_squared_error: 34.0354\n",
            "Epoch 13/100\n",
            "12/12 [==============================] - 0s 6ms/step - loss: 1405.0011 - root_mean_squared_error: 37.4833 - val_loss: 1162.7947 - val_root_mean_squared_error: 34.0998\n",
            "Epoch 14/100\n",
            " 1/12 [=>............................] - ETA: 0s - loss: 824.3466 - root_mean_squared_error: 28.7114"
          ]
        },
        {
          "output_type": "stream",
          "name": "stderr",
          "text": [
            "WARNING:absl:Found untraced functions such as _update_step_xla while saving (showing 1 of 1). These functions will not be directly callable after loading.\n"
          ]
        },
        {
          "output_type": "stream",
          "name": "stdout",
          "text": [
            "\b\b\b\b\b\b\b\b\b\b\b\b\b\b\b\b\b\b\b\b\b\b\b\b\b\b\b\b\b\b\b\b\b\b\b\b\b\b\b\b\b\b\b\b\b\b\b\b\b\b\b\b\b\b\b\b\b\b\b\b\b\b\b\b\b\b\b\b\b\b\b\b\b\b\b\b\b\b\b\b\b\b\b\b\b\b\b\b\b\b\b\b\b\b\b\b\b\b\b\b\r12/12 [==============================] - 1s 46ms/step - loss: 1355.1407 - root_mean_squared_error: 36.8122 - val_loss: 1155.7600 - val_root_mean_squared_error: 33.9965\n",
            "Epoch 15/100\n",
            "12/12 [==============================] - 0s 5ms/step - loss: 1319.1841 - root_mean_squared_error: 36.3206 - val_loss: 1162.2327 - val_root_mean_squared_error: 34.0915\n",
            "Epoch 16/100\n",
            "12/12 [==============================] - 0s 6ms/step - loss: 1300.5996 - root_mean_squared_error: 36.0638 - val_loss: 1157.4901 - val_root_mean_squared_error: 34.0219\n",
            "Epoch 17/100\n",
            " 1/12 [=>............................] - ETA: 0s - loss: 611.3196 - root_mean_squared_error: 24.7249"
          ]
        },
        {
          "output_type": "stream",
          "name": "stderr",
          "text": [
            "WARNING:absl:Found untraced functions such as _update_step_xla while saving (showing 1 of 1). These functions will not be directly callable after loading.\n"
          ]
        },
        {
          "output_type": "stream",
          "name": "stdout",
          "text": [
            "\b\b\b\b\b\b\b\b\b\b\b\b\b\b\b\b\b\b\b\b\b\b\b\b\b\b\b\b\b\b\b\b\b\b\b\b\b\b\b\b\b\b\b\b\b\b\b\b\b\b\b\b\b\b\b\b\b\b\b\b\b\b\b\b\b\b\b\b\b\b\b\b\b\b\b\b\b\b\b\b\b\b\b\b\b\b\b\b\b\b\b\b\b\b\b\b\b\b\b\b\r12/12 [==============================] - 0s 45ms/step - loss: 1256.7190 - root_mean_squared_error: 35.4502 - val_loss: 1155.7515 - val_root_mean_squared_error: 33.9963\n",
            "Epoch 18/100\n",
            "12/12 [==============================] - 0s 7ms/step - loss: 1235.3716 - root_mean_squared_error: 35.1479 - val_loss: 1156.4147 - val_root_mean_squared_error: 34.0061\n",
            "Epoch 19/100\n",
            " 1/12 [=>............................] - ETA: 0s - loss: 330.1220 - root_mean_squared_error: 18.1693"
          ]
        },
        {
          "output_type": "stream",
          "name": "stderr",
          "text": [
            "WARNING:absl:Found untraced functions such as _update_step_xla while saving (showing 1 of 1). These functions will not be directly callable after loading.\n"
          ]
        },
        {
          "output_type": "stream",
          "name": "stdout",
          "text": [
            "\b\b\b\b\b\b\b\b\b\b\b\b\b\b\b\b\b\b\b\b\b\b\b\b\b\b\b\b\b\b\b\b\b\b\b\b\b\b\b\b\b\b\b\b\b\b\b\b\b\b\b\b\b\b\b\b\b\b\b\b\b\b\b\b\b\b\b\b\b\b\b\b\b\b\b\b\b\b\b\b\b\b\b\b\b\b\b\b\b\b\b\b\b\b\b\b\b\b\b\b\r12/12 [==============================] - 0s 45ms/step - loss: 1241.7063 - root_mean_squared_error: 35.2379 - val_loss: 1154.2671 - val_root_mean_squared_error: 33.9745\n",
            "Epoch 20/100\n",
            " 1/12 [=>............................] - ETA: 0s - loss: 1022.0314 - root_mean_squared_error: 31.9692"
          ]
        },
        {
          "output_type": "stream",
          "name": "stderr",
          "text": [
            "WARNING:absl:Found untraced functions such as _update_step_xla while saving (showing 1 of 1). These functions will not be directly callable after loading.\n"
          ]
        },
        {
          "output_type": "stream",
          "name": "stdout",
          "text": [
            "\b\b\b\b\b\b\b\b\b\b\b\b\b\b\b\b\b\b\b\b\b\b\b\b\b\b\b\b\b\b\b\b\b\b\b\b\b\b\b\b\b\b\b\b\b\b\b\b\b\b\b\b\b\b\b\b\b\b\b\b\b\b\b\b\b\b\b\b\b\b\b\b\b\b\b\b\b\b\b\b\b\b\b\b\b\b\b\b\b\b\b\b\b\b\b\b\b\b\b\b\b\r12/12 [==============================] - 1s 77ms/step - loss: 1199.3474 - root_mean_squared_error: 34.6316 - val_loss: 1144.1078 - val_root_mean_squared_error: 33.8247\n",
            "Epoch 21/100\n",
            "11/12 [==========================>...] - ETA: 0s - loss: 1214.2667 - root_mean_squared_error: 34.8463"
          ]
        },
        {
          "output_type": "stream",
          "name": "stderr",
          "text": [
            "WARNING:absl:Found untraced functions such as _update_step_xla while saving (showing 1 of 1). These functions will not be directly callable after loading.\n"
          ]
        },
        {
          "output_type": "stream",
          "name": "stdout",
          "text": [
            "\b\b\b\b\b\b\b\b\b\b\b\b\b\b\b\b\b\b\b\b\b\b\b\b\b\b\b\b\b\b\b\b\b\b\b\b\b\b\b\b\b\b\b\b\b\b\b\b\b\b\b\b\b\b\b\b\b\b\b\b\b\b\b\b\b\b\b\b\b\b\b\b\b\b\b\b\b\b\b\b\b\b\b\b\b\b\b\b\b\b\b\b\b\b\b\b\b\b\b\b\b\r12/12 [==============================] - 1s 99ms/step - loss: 1200.3229 - root_mean_squared_error: 34.6457 - val_loss: 1143.3206 - val_root_mean_squared_error: 33.8130\n",
            "Epoch 22/100\n",
            " 1/12 [=>............................] - ETA: 0s - loss: 888.3473 - root_mean_squared_error: 29.8052"
          ]
        },
        {
          "output_type": "stream",
          "name": "stderr",
          "text": [
            "WARNING:absl:Found untraced functions such as _update_step_xla while saving (showing 1 of 1). These functions will not be directly callable after loading.\n"
          ]
        },
        {
          "output_type": "stream",
          "name": "stdout",
          "text": [
            "\b\b\b\b\b\b\b\b\b\b\b\b\b\b\b\b\b\b\b\b\b\b\b\b\b\b\b\b\b\b\b\b\b\b\b\b\b\b\b\b\b\b\b\b\b\b\b\b\b\b\b\b\b\b\b\b\b\b\b\b\b\b\b\b\b\b\b\b\b\b\b\b\b\b\b\b\b\b\b\b\b\b\b\b\b\b\b\b\b\b\b\b\b\b\b\b\b\b\b\b\r12/12 [==============================] - 0s 43ms/step - loss: 1150.6672 - root_mean_squared_error: 33.9215 - val_loss: 1120.1775 - val_root_mean_squared_error: 33.4691\n",
            "Epoch 23/100\n",
            " 1/12 [=>............................] - ETA: 0s - loss: 1400.4751 - root_mean_squared_error: 37.4229"
          ]
        },
        {
          "output_type": "stream",
          "name": "stderr",
          "text": [
            "WARNING:absl:Found untraced functions such as _update_step_xla while saving (showing 1 of 1). These functions will not be directly callable after loading.\n"
          ]
        },
        {
          "output_type": "stream",
          "name": "stdout",
          "text": [
            "\b\b\b\b\b\b\b\b\b\b\b\b\b\b\b\b\b\b\b\b\b\b\b\b\b\b\b\b\b\b\b\b\b\b\b\b\b\b\b\b\b\b\b\b\b\b\b\b\b\b\b\b\b\b\b\b\b\b\b\b\b\b\b\b\b\b\b\b\b\b\b\b\b\b\b\b\b\b\b\b\b\b\b\b\b\b\b\b\b\b\b\b\b\b\b\b\b\b\b\b\b\r12/12 [==============================] - 1s 47ms/step - loss: 1130.7357 - root_mean_squared_error: 33.6264 - val_loss: 1119.3702 - val_root_mean_squared_error: 33.4570\n",
            "Epoch 24/100\n",
            " 1/12 [=>............................] - ETA: 0s - loss: 638.4828 - root_mean_squared_error: 25.2682"
          ]
        },
        {
          "output_type": "stream",
          "name": "stderr",
          "text": [
            "WARNING:absl:Found untraced functions such as _update_step_xla while saving (showing 1 of 1). These functions will not be directly callable after loading.\n"
          ]
        },
        {
          "output_type": "stream",
          "name": "stdout",
          "text": [
            "\b\b\b\b\b\b\b\b\b\b\b\b\b\b\b\b\b\b\b\b\b\b\b\b\b\b\b\b\b\b\b\b\b\b\b\b\b\b\b\b\b\b\b\b\b\b\b\b\b\b\b\b\b\b\b\b\b\b\b\b\b\b\b\b\b\b\b\b\b\b\b\b\b\b\b\b\b\b\b\b\b\b\b\b\b\b\b\b\b\b\b\b\b\b\b\b\b\b\b\b\r12/12 [==============================] - 1s 47ms/step - loss: 1117.2277 - root_mean_squared_error: 33.4250 - val_loss: 1115.5406 - val_root_mean_squared_error: 33.3997\n",
            "Epoch 25/100\n",
            " 1/12 [=>............................] - ETA: 0s - loss: 608.0404 - root_mean_squared_error: 24.6585"
          ]
        },
        {
          "output_type": "stream",
          "name": "stderr",
          "text": [
            "WARNING:absl:Found untraced functions such as _update_step_xla while saving (showing 1 of 1). These functions will not be directly callable after loading.\n"
          ]
        },
        {
          "output_type": "stream",
          "name": "stdout",
          "text": [
            "\b\b\b\b\b\b\b\b\b\b\b\b\b\b\b\b\b\b\b\b\b\b\b\b\b\b\b\b\b\b\b\b\b\b\b\b\b\b\b\b\b\b\b\b\b\b\b\b\b\b\b\b\b\b\b\b\b\b\b\b\b\b\b\b\b\b\b\b\b\b\b\b\b\b\b\b\b\b\b\b\b\b\b\b\b\b\b\b\b\b\b\b\b\b\b\b\b\b\b\b\r12/12 [==============================] - 1s 46ms/step - loss: 1099.6617 - root_mean_squared_error: 33.1611 - val_loss: 1097.5262 - val_root_mean_squared_error: 33.1289\n",
            "Epoch 26/100\n",
            " 1/12 [=>............................] - ETA: 0s - loss: 493.2064 - root_mean_squared_error: 22.2083"
          ]
        },
        {
          "output_type": "stream",
          "name": "stderr",
          "text": [
            "WARNING:absl:Found untraced functions such as _update_step_xla while saving (showing 1 of 1). These functions will not be directly callable after loading.\n"
          ]
        },
        {
          "output_type": "stream",
          "name": "stdout",
          "text": [
            "\b\b\b\b\b\b\b\b\b\b\b\b\b\b\b\b\b\b\b\b\b\b\b\b\b\b\b\b\b\b\b\b\b\b\b\b\b\b\b\b\b\b\b\b\b\b\b\b\b\b\b\b\b\b\b\b\b\b\b\b\b\b\b\b\b\b\b\b\b\b\b\b\b\b\b\b\b\b\b\b\b\b\b\b\b\b\b\b\b\b\b\b\b\b\b\b\b\b\b\b\r12/12 [==============================] - 0s 44ms/step - loss: 1085.5344 - root_mean_squared_error: 32.9474 - val_loss: 1092.5626 - val_root_mean_squared_error: 33.0539\n",
            "Epoch 27/100\n",
            " 1/12 [=>............................] - ETA: 0s - loss: 2862.0681 - root_mean_squared_error: 53.4983"
          ]
        },
        {
          "output_type": "stream",
          "name": "stderr",
          "text": [
            "WARNING:absl:Found untraced functions such as _update_step_xla while saving (showing 1 of 1). These functions will not be directly callable after loading.\n"
          ]
        },
        {
          "output_type": "stream",
          "name": "stdout",
          "text": [
            "\b\b\b\b\b\b\b\b\b\b\b\b\b\b\b\b\b\b\b\b\b\b\b\b\b\b\b\b\b\b\b\b\b\b\b\b\b\b\b\b\b\b\b\b\b\b\b\b\b\b\b\b\b\b\b\b\b\b\b\b\b\b\b\b\b\b\b\b\b\b\b\b\b\b\b\b\b\b\b\b\b\b\b\b\b\b\b\b\b\b\b\b\b\b\b\b\b\b\b\b\b\r12/12 [==============================] - 1s 45ms/step - loss: 1059.1403 - root_mean_squared_error: 32.5444 - val_loss: 1073.3528 - val_root_mean_squared_error: 32.7621\n",
            "Epoch 28/100\n",
            " 1/12 [=>............................] - ETA: 0s - loss: 939.2245 - root_mean_squared_error: 30.6468"
          ]
        },
        {
          "output_type": "stream",
          "name": "stderr",
          "text": [
            "WARNING:absl:Found untraced functions such as _update_step_xla while saving (showing 1 of 1). These functions will not be directly callable after loading.\n"
          ]
        },
        {
          "output_type": "stream",
          "name": "stdout",
          "text": [
            "\b\b\b\b\b\b\b\b\b\b\b\b\b\b\b\b\b\b\b\b\b\b\b\b\b\b\b\b\b\b\b\b\b\b\b\b\b\b\b\b\b\b\b\b\b\b\b\b\b\b\b\b\b\b\b\b\b\b\b\b\b\b\b\b\b\b\b\b\b\b\b\b\b\b\b\b\b\b\b\b\b\b\b\b\b\b\b\b\b\b\b\b\b\b\b\b\b\b\b\b\r12/12 [==============================] - 0s 42ms/step - loss: 1034.9875 - root_mean_squared_error: 32.1712 - val_loss: 1046.0653 - val_root_mean_squared_error: 32.3429\n",
            "Epoch 29/100\n",
            " 1/12 [=>............................] - ETA: 0s - loss: 2705.5381 - root_mean_squared_error: 52.0148"
          ]
        },
        {
          "output_type": "stream",
          "name": "stderr",
          "text": [
            "WARNING:absl:Found untraced functions such as _update_step_xla while saving (showing 1 of 1). These functions will not be directly callable after loading.\n"
          ]
        },
        {
          "output_type": "stream",
          "name": "stdout",
          "text": [
            "\b\b\b\b\b\b\b\b\b\b\b\b\b\b\b\b\b\b\b\b\b\b\b\b\b\b\b\b\b\b\b\b\b\b\b\b\b\b\b\b\b\b\b\b\b\b\b\b\b\b\b\b\b\b\b\b\b\b\b\b\b\b\b\b\b\b\b\b\b\b\b\b\b\b\b\b\b\b\b\b\b\b\b\b\b\b\b\b\b\b\b\b\b\b\b\b\b\b\b\b\b\r12/12 [==============================] - 0s 44ms/step - loss: 1006.3909 - root_mean_squared_error: 31.7237 - val_loss: 1023.0594 - val_root_mean_squared_error: 31.9853\n",
            "Epoch 30/100\n",
            "12/12 [==============================] - 0s 7ms/step - loss: 997.4387 - root_mean_squared_error: 31.5823 - val_loss: 1025.1538 - val_root_mean_squared_error: 32.0180\n",
            "Epoch 31/100\n",
            "12/12 [==============================] - 0s 7ms/step - loss: 976.1981 - root_mean_squared_error: 31.2442 - val_loss: 1032.8577 - val_root_mean_squared_error: 32.1381\n",
            "Epoch 32/100\n",
            "12/12 [==============================] - 0s 7ms/step - loss: 959.1030 - root_mean_squared_error: 30.9694 - val_loss: 1035.3866 - val_root_mean_squared_error: 32.1774\n",
            "Epoch 33/100\n",
            "12/12 [==============================] - 0s 5ms/step - loss: 956.9209 - root_mean_squared_error: 30.9341 - val_loss: 1037.1930 - val_root_mean_squared_error: 32.2055\n",
            "Epoch 34/100\n",
            "12/12 [==============================] - 0s 7ms/step - loss: 951.8339 - root_mean_squared_error: 30.8518 - val_loss: 1039.4661 - val_root_mean_squared_error: 32.2407\n",
            "Epoch 35/100\n",
            "12/12 [==============================] - 0s 6ms/step - loss: 937.9638 - root_mean_squared_error: 30.6262 - val_loss: 1052.8206 - val_root_mean_squared_error: 32.4472\n",
            "Epoch 36/100\n",
            "12/12 [==============================] - 0s 6ms/step - loss: 931.6270 - root_mean_squared_error: 30.5226 - val_loss: 1030.2883 - val_root_mean_squared_error: 32.0981\n",
            "Epoch 37/100\n",
            "12/12 [==============================] - 0s 6ms/step - loss: 937.0541 - root_mean_squared_error: 30.6113 - val_loss: 1037.1669 - val_root_mean_squared_error: 32.2051\n",
            "Epoch 38/100\n",
            "12/12 [==============================] - 0s 5ms/step - loss: 923.0680 - root_mean_squared_error: 30.3820 - val_loss: 1035.9502 - val_root_mean_squared_error: 32.1862\n",
            "Epoch 39/100\n",
            "12/12 [==============================] - 0s 5ms/step - loss: 916.4824 - root_mean_squared_error: 30.2735 - val_loss: 1025.7195 - val_root_mean_squared_error: 32.0269\n",
            "Epoch 40/100\n",
            " 1/12 [=>............................] - ETA: 0s - loss: 570.3371 - root_mean_squared_error: 23.8817"
          ]
        },
        {
          "output_type": "stream",
          "name": "stderr",
          "text": [
            "WARNING:absl:Found untraced functions such as _update_step_xla while saving (showing 1 of 1). These functions will not be directly callable after loading.\n"
          ]
        },
        {
          "output_type": "stream",
          "name": "stdout",
          "text": [
            "\b\b\b\b\b\b\b\b\b\b\b\b\b\b\b\b\b\b\b\b\b\b\b\b\b\b\b\b\b\b\b\b\b\b\b\b\b\b\b\b\b\b\b\b\b\b\b\b\b\b\b\b\b\b\b\b\b\b\b\b\b\b\b\b\b\b\b\b\b\b\b\b\b\b\b\b\b\b\b\b\b\b\b\b\b\b\b\b\b\b\b\b\b\b\b\b\b\b\b\b\r12/12 [==============================] - 0s 44ms/step - loss: 910.1272 - root_mean_squared_error: 30.1683 - val_loss: 1018.2808 - val_root_mean_squared_error: 31.9105\n",
            "Epoch 41/100\n",
            " 1/12 [=>............................] - ETA: 0s - loss: 469.4083 - root_mean_squared_error: 21.6658"
          ]
        },
        {
          "output_type": "stream",
          "name": "stderr",
          "text": [
            "WARNING:absl:Found untraced functions such as _update_step_xla while saving (showing 1 of 1). These functions will not be directly callable after loading.\n"
          ]
        },
        {
          "output_type": "stream",
          "name": "stdout",
          "text": [
            "\b\b\b\b\b\b\b\b\b\b\b\b\b\b\b\b\b\b\b\b\b\b\b\b\b\b\b\b\b\b\b\b\b\b\b\b\b\b\b\b\b\b\b\b\b\b\b\b\b\b\b\b\b\b\b\b\b\b\b\b\b\b\b\b\b\b\b\b\b\b\b\b\b\b\b\b\b\b\b\b\b\b\b\b\b\b\b\b\b\b\b\b\b\b\b\b\b\b\b\b\r12/12 [==============================] - 1s 53ms/step - loss: 906.7090 - root_mean_squared_error: 30.1116 - val_loss: 1005.8647 - val_root_mean_squared_error: 31.7154\n",
            "Epoch 42/100\n",
            "12/12 [==============================] - 0s 9ms/step - loss: 904.4800 - root_mean_squared_error: 30.0746 - val_loss: 1008.1523 - val_root_mean_squared_error: 31.7514\n",
            "Epoch 43/100\n",
            "12/12 [==============================] - 0s 8ms/step - loss: 901.7382 - root_mean_squared_error: 30.0290 - val_loss: 1014.0631 - val_root_mean_squared_error: 31.8444\n",
            "Epoch 44/100\n",
            "12/12 [==============================] - 0s 7ms/step - loss: 905.2730 - root_mean_squared_error: 30.0878 - val_loss: 1007.9390 - val_root_mean_squared_error: 31.7481\n",
            "Epoch 45/100\n",
            " 1/12 [=>............................] - ETA: 0s - loss: 610.2980 - root_mean_squared_error: 24.7042"
          ]
        },
        {
          "output_type": "stream",
          "name": "stderr",
          "text": [
            "WARNING:absl:Found untraced functions such as _update_step_xla while saving (showing 1 of 1). These functions will not be directly callable after loading.\n"
          ]
        },
        {
          "output_type": "stream",
          "name": "stdout",
          "text": [
            "\b\b\b\b\b\b\b\b\b\b\b\b\b\b\b\b\b\b\b\b\b\b\b\b\b\b\b\b\b\b\b\b\b\b\b\b\b\b\b\b\b\b\b\b\b\b\b\b\b\b\b\b\b\b\b\b\b\b\b\b\b\b\b\b\b\b\b\b\b\b\b\b\b\b\b\b\b\b\b\b\b\b\b\b\b\b\b\b\b\b\b\b\b\b\b\b\b\b\b\b\r12/12 [==============================] - 1s 61ms/step - loss: 894.4876 - root_mean_squared_error: 29.9080 - val_loss: 993.3280 - val_root_mean_squared_error: 31.5171\n",
            "Epoch 46/100\n",
            "12/12 [==============================] - 0s 8ms/step - loss: 903.0395 - root_mean_squared_error: 30.0506 - val_loss: 1012.5685 - val_root_mean_squared_error: 31.8209\n",
            "Epoch 47/100\n",
            "12/12 [==============================] - 0s 7ms/step - loss: 896.6385 - root_mean_squared_error: 29.9439 - val_loss: 1020.1046 - val_root_mean_squared_error: 31.9391\n",
            "Epoch 48/100\n",
            "12/12 [==============================] - 0s 7ms/step - loss: 913.2514 - root_mean_squared_error: 30.2200 - val_loss: 1017.5919 - val_root_mean_squared_error: 31.8997\n",
            "Epoch 49/100\n",
            "12/12 [==============================] - 0s 7ms/step - loss: 890.6724 - root_mean_squared_error: 29.8441 - val_loss: 1019.7716 - val_root_mean_squared_error: 31.9339\n",
            "Epoch 50/100\n",
            "12/12 [==============================] - 0s 7ms/step - loss: 891.9708 - root_mean_squared_error: 29.8659 - val_loss: 1030.8497 - val_root_mean_squared_error: 32.1068\n",
            "Epoch 51/100\n",
            "12/12 [==============================] - 0s 9ms/step - loss: 886.6367 - root_mean_squared_error: 29.7764 - val_loss: 1039.9813 - val_root_mean_squared_error: 32.2487\n",
            "Epoch 52/100\n",
            "12/12 [==============================] - 0s 8ms/step - loss: 887.9794 - root_mean_squared_error: 29.7990 - val_loss: 1027.4822 - val_root_mean_squared_error: 32.0544\n",
            "Epoch 53/100\n",
            "12/12 [==============================] - 0s 11ms/step - loss: 877.7079 - root_mean_squared_error: 29.6261 - val_loss: 1030.9561 - val_root_mean_squared_error: 32.1085\n",
            "Epoch 54/100\n",
            "12/12 [==============================] - 0s 9ms/step - loss: 882.7299 - root_mean_squared_error: 29.7108 - val_loss: 1053.5339 - val_root_mean_squared_error: 32.4582\n",
            "Epoch 55/100\n",
            "12/12 [==============================] - 0s 8ms/step - loss: 896.5090 - root_mean_squared_error: 29.9418 - val_loss: 1043.7581 - val_root_mean_squared_error: 32.3072\n",
            "Epoch 56/100\n",
            "12/12 [==============================] - 0s 9ms/step - loss: 903.2479 - root_mean_squared_error: 30.0541 - val_loss: 1040.8970 - val_root_mean_squared_error: 32.2629\n",
            "Epoch 57/100\n",
            "12/12 [==============================] - 0s 6ms/step - loss: 865.4738 - root_mean_squared_error: 29.4189 - val_loss: 1073.9723 - val_root_mean_squared_error: 32.7715\n",
            "Epoch 58/100\n",
            "12/12 [==============================] - 0s 5ms/step - loss: 871.1320 - root_mean_squared_error: 29.5149 - val_loss: 1046.5618 - val_root_mean_squared_error: 32.3506\n",
            "Epoch 59/100\n",
            "12/12 [==============================] - 0s 5ms/step - loss: 875.6067 - root_mean_squared_error: 29.5907 - val_loss: 1063.9589 - val_root_mean_squared_error: 32.6184\n",
            "Epoch 60/100\n",
            "12/12 [==============================] - 0s 6ms/step - loss: 908.2882 - root_mean_squared_error: 30.1378 - val_loss: 1066.6305 - val_root_mean_squared_error: 32.6593\n",
            "Epoch 61/100\n",
            "12/12 [==============================] - 0s 5ms/step - loss: 868.8392 - root_mean_squared_error: 29.4761 - val_loss: 1031.8850 - val_root_mean_squared_error: 32.1230\n",
            "Epoch 62/100\n",
            "12/12 [==============================] - 0s 7ms/step - loss: 860.1838 - root_mean_squared_error: 29.3289 - val_loss: 1040.0951 - val_root_mean_squared_error: 32.2505\n",
            "Epoch 63/100\n",
            "12/12 [==============================] - 0s 7ms/step - loss: 882.8480 - root_mean_squared_error: 29.7128 - val_loss: 1046.0481 - val_root_mean_squared_error: 32.3427\n",
            "Epoch 64/100\n",
            "12/12 [==============================] - 0s 7ms/step - loss: 866.5375 - root_mean_squared_error: 29.4370 - val_loss: 1054.4404 - val_root_mean_squared_error: 32.4721\n",
            "Epoch 65/100\n",
            "12/12 [==============================] - 0s 6ms/step - loss: 875.9998 - root_mean_squared_error: 29.5973 - val_loss: 1041.7115 - val_root_mean_squared_error: 32.2756\n",
            "Epoch 66/100\n",
            "12/12 [==============================] - 0s 7ms/step - loss: 853.5337 - root_mean_squared_error: 29.2153 - val_loss: 1060.3821 - val_root_mean_squared_error: 32.5635\n",
            "Epoch 67/100\n",
            "12/12 [==============================] - 0s 5ms/step - loss: 870.5968 - root_mean_squared_error: 29.5059 - val_loss: 1062.4491 - val_root_mean_squared_error: 32.5952\n",
            "Epoch 68/100\n",
            "12/12 [==============================] - 0s 7ms/step - loss: 859.3185 - root_mean_squared_error: 29.3141 - val_loss: 1068.6200 - val_root_mean_squared_error: 32.6898\n",
            "Epoch 69/100\n",
            "12/12 [==============================] - 0s 5ms/step - loss: 859.3666 - root_mean_squared_error: 29.3150 - val_loss: 1069.0481 - val_root_mean_squared_error: 32.6963\n",
            "Epoch 70/100\n",
            "12/12 [==============================] - 0s 7ms/step - loss: 849.7691 - root_mean_squared_error: 29.1508 - val_loss: 1053.7456 - val_root_mean_squared_error: 32.4614\n",
            "Epoch 71/100\n",
            "12/12 [==============================] - 0s 5ms/step - loss: 854.4029 - root_mean_squared_error: 29.2302 - val_loss: 1064.8435 - val_root_mean_squared_error: 32.6319\n",
            "Epoch 72/100\n",
            "12/12 [==============================] - 0s 6ms/step - loss: 851.9804 - root_mean_squared_error: 29.1887 - val_loss: 1064.1974 - val_root_mean_squared_error: 32.6220\n",
            "Epoch 73/100\n",
            "12/12 [==============================] - 0s 7ms/step - loss: 853.4914 - root_mean_squared_error: 29.2146 - val_loss: 1083.3816 - val_root_mean_squared_error: 32.9148\n",
            "Epoch 74/100\n",
            "12/12 [==============================] - 0s 6ms/step - loss: 850.9852 - root_mean_squared_error: 29.1716 - val_loss: 1095.3696 - val_root_mean_squared_error: 33.0964\n",
            "Epoch 75/100\n",
            "12/12 [==============================] - 0s 5ms/step - loss: 846.0452 - root_mean_squared_error: 29.0869 - val_loss: 1088.9211 - val_root_mean_squared_error: 32.9988\n",
            "Epoch 76/100\n",
            "12/12 [==============================] - 0s 6ms/step - loss: 847.0457 - root_mean_squared_error: 29.1040 - val_loss: 1071.7205 - val_root_mean_squared_error: 32.7371\n",
            "Epoch 77/100\n",
            "12/12 [==============================] - 0s 6ms/step - loss: 838.2973 - root_mean_squared_error: 28.9534 - val_loss: 1082.0485 - val_root_mean_squared_error: 32.8945\n",
            "Epoch 78/100\n",
            "12/12 [==============================] - 0s 7ms/step - loss: 850.1852 - root_mean_squared_error: 29.1579 - val_loss: 1069.6205 - val_root_mean_squared_error: 32.7051\n",
            "Epoch 79/100\n",
            "12/12 [==============================] - 0s 7ms/step - loss: 846.4160 - root_mean_squared_error: 29.0932 - val_loss: 1079.0675 - val_root_mean_squared_error: 32.8492\n",
            "Epoch 80/100\n",
            "12/12 [==============================] - 0s 6ms/step - loss: 844.8629 - root_mean_squared_error: 29.0665 - val_loss: 1071.6274 - val_root_mean_squared_error: 32.7357\n",
            "Epoch 81/100\n",
            "12/12 [==============================] - 0s 6ms/step - loss: 847.0370 - root_mean_squared_error: 29.1039 - val_loss: 1071.5261 - val_root_mean_squared_error: 32.7342\n",
            "Epoch 82/100\n",
            "12/12 [==============================] - 0s 8ms/step - loss: 836.5876 - root_mean_squared_error: 28.9238 - val_loss: 1075.3328 - val_root_mean_squared_error: 32.7923\n",
            "Epoch 83/100\n",
            "12/12 [==============================] - 0s 6ms/step - loss: 845.8212 - root_mean_squared_error: 29.0830 - val_loss: 1085.1251 - val_root_mean_squared_error: 32.9412\n",
            "Epoch 84/100\n",
            "12/12 [==============================] - 0s 7ms/step - loss: 843.0486 - root_mean_squared_error: 29.0353 - val_loss: 1068.5349 - val_root_mean_squared_error: 32.6885\n",
            "Epoch 85/100\n",
            "12/12 [==============================] - 0s 6ms/step - loss: 835.5851 - root_mean_squared_error: 28.9065 - val_loss: 1088.5117 - val_root_mean_squared_error: 32.9926\n",
            "Epoch 86/100\n",
            "12/12 [==============================] - 0s 7ms/step - loss: 842.2354 - root_mean_squared_error: 29.0213 - val_loss: 1081.0594 - val_root_mean_squared_error: 32.8795\n",
            "Epoch 87/100\n",
            "12/12 [==============================] - 0s 7ms/step - loss: 852.7554 - root_mean_squared_error: 29.2020 - val_loss: 1087.6326 - val_root_mean_squared_error: 32.9793\n",
            "Epoch 88/100\n",
            "12/12 [==============================] - 0s 6ms/step - loss: 873.4486 - root_mean_squared_error: 29.5542 - val_loss: 1071.8528 - val_root_mean_squared_error: 32.7392\n",
            "Epoch 89/100\n",
            "12/12 [==============================] - 0s 5ms/step - loss: 872.1265 - root_mean_squared_error: 29.5318 - val_loss: 1077.5325 - val_root_mean_squared_error: 32.8258\n",
            "Epoch 90/100\n",
            "12/12 [==============================] - 0s 7ms/step - loss: 845.8234 - root_mean_squared_error: 29.0830 - val_loss: 1083.5348 - val_root_mean_squared_error: 32.9171\n",
            "Epoch 91/100\n",
            "12/12 [==============================] - 0s 5ms/step - loss: 830.6503 - root_mean_squared_error: 28.8210 - val_loss: 1059.0742 - val_root_mean_squared_error: 32.5434\n",
            "Epoch 92/100\n",
            "12/12 [==============================] - 0s 5ms/step - loss: 834.6581 - root_mean_squared_error: 28.8904 - val_loss: 1059.1436 - val_root_mean_squared_error: 32.5445\n",
            "Epoch 93/100\n",
            "12/12 [==============================] - 0s 6ms/step - loss: 845.2977 - root_mean_squared_error: 29.0740 - val_loss: 1077.9309 - val_root_mean_squared_error: 32.8319\n",
            "Epoch 94/100\n",
            "12/12 [==============================] - 0s 5ms/step - loss: 857.3655 - root_mean_squared_error: 29.2808 - val_loss: 1064.5541 - val_root_mean_squared_error: 32.6275\n",
            "Epoch 95/100\n",
            "12/12 [==============================] - 0s 6ms/step - loss: 828.1226 - root_mean_squared_error: 28.7771 - val_loss: 1093.3043 - val_root_mean_squared_error: 33.0652\n",
            "Epoch 96/100\n",
            "12/12 [==============================] - 0s 6ms/step - loss: 828.0966 - root_mean_squared_error: 28.7767 - val_loss: 1085.9686 - val_root_mean_squared_error: 32.9540\n",
            "Epoch 97/100\n",
            "12/12 [==============================] - 0s 5ms/step - loss: 824.5280 - root_mean_squared_error: 28.7146 - val_loss: 1090.1635 - val_root_mean_squared_error: 33.0176\n",
            "Epoch 98/100\n",
            "12/12 [==============================] - 0s 6ms/step - loss: 827.1334 - root_mean_squared_error: 28.7599 - val_loss: 1085.9884 - val_root_mean_squared_error: 32.9543\n",
            "Epoch 99/100\n",
            "12/12 [==============================] - 0s 5ms/step - loss: 822.2422 - root_mean_squared_error: 28.6748 - val_loss: 1079.6544 - val_root_mean_squared_error: 32.8581\n",
            "Epoch 100/100\n",
            "12/12 [==============================] - 0s 5ms/step - loss: 831.5609 - root_mean_squared_error: 28.8368 - val_loss: 1080.3322 - val_root_mean_squared_error: 32.8684\n"
          ]
        },
        {
          "output_type": "execute_result",
          "data": {
            "text/plain": [
              "<keras.callbacks.History at 0x7f52a859f310>"
            ]
          },
          "metadata": {},
          "execution_count": 115
        }
      ]
    },
    {
      "cell_type": "code",
      "source": [
        "# Load the best performing model 1 and evaluate it\n",
        "model_1 = tf.keras.models.load_model(\"model_experiments/model_1_dense\")\n",
        "model_1.evaluate(test_windows, test_labels)"
      ],
      "metadata": {
        "colab": {
          "base_uri": "https://localhost:8080/"
        },
        "id": "zm4jkKUxiEAa",
        "outputId": "ae472532-8d89-4428-fed6-8ab2369f35bd"
      },
      "execution_count": null,
      "outputs": [
        {
          "output_type": "stream",
          "name": "stdout",
          "text": [
            "1/1 [==============================] - 0s 95ms/step - loss: 993.3280 - root_mean_squared_error: 31.5171\n"
          ]
        },
        {
          "output_type": "execute_result",
          "data": {
            "text/plain": [
              "[993.3280029296875, 31.517107009887695]"
            ]
          },
          "metadata": {},
          "execution_count": 116
        }
      ]
    },
    {
      "cell_type": "code",
      "source": [
        "# Create a make prediction function\n",
        "def make_preds(model, input_data):\n",
        "  \"\"\"\n",
        "  Uses model to make predictions on input_data.\n",
        "\n",
        "  Parameters\n",
        "  ----------\n",
        "  model: trained model \n",
        "  input_data: windowed input data (same kind of data model was trained on)\n",
        "\n",
        "  Returns model predictions on input_data.\n",
        "  \"\"\"\n",
        "  forecast = model.predict(input_data)\n",
        "  return tf.squeeze(forecast)"
      ],
      "metadata": {
        "id": "18hStrsQjGKD"
      },
      "execution_count": null,
      "outputs": []
    },
    {
      "cell_type": "code",
      "source": [
        "# Make predictions using model_1 on the test dataset and view the results\n",
        "model_1_preds = make_preds(model_1, test_windows)\n",
        "len(model_1_preds), model_1_preds[:10]"
      ],
      "metadata": {
        "colab": {
          "base_uri": "https://localhost:8080/"
        },
        "id": "s2Od_CaejMAU",
        "outputId": "fc829230-20eb-45d3-d421-5ebf4f9b6822"
      },
      "execution_count": null,
      "outputs": [
        {
          "output_type": "stream",
          "name": "stdout",
          "text": [
            "1/1 [==============================] - 0s 42ms/step\n"
          ]
        },
        {
          "output_type": "execute_result",
          "data": {
            "text/plain": [
              "(10,\n",
              " <tf.Tensor: shape=(10,), dtype=float32, numpy=\n",
              " array([ 19.855927,  25.456434,  45.12163 ,  30.15122 ,  36.93997 ,\n",
              "         49.90355 , 126.61118 , 178.59026 ,  93.24521 ,  65.620926],\n",
              "       dtype=float32)>)"
            ]
          },
          "metadata": {},
          "execution_count": 118
        }
      ]
    },
    {
      "cell_type": "code",
      "source": [
        "# Evaluate preds\n",
        "model_1_results = evaluate_preds(y_true=tf.squeeze(test_labels), # reduce to right shape\n",
        "                                 y_pred=model_1_preds)\n",
        "model_1_results"
      ],
      "metadata": {
        "colab": {
          "base_uri": "https://localhost:8080/"
        },
        "id": "tQvw2gZijN49",
        "outputId": "b1a8e1b3-aaaf-4320-a45e-ec6bc41aefaf"
      },
      "execution_count": null,
      "outputs": [
        {
          "output_type": "execute_result",
          "data": {
            "text/plain": [
              "{'mae': 23.44179,\n",
              " 'mse': 993.328,\n",
              " 'rmse': 31.517107,\n",
              " 'rae': 0.6234518,\n",
              " 'rse': 0.5633794,\n",
              " 'r-squared': 0.43662065}"
            ]
          },
          "metadata": {},
          "execution_count": 119
        }
      ]
    },
    {
      "cell_type": "code",
      "source": [
        "plt.figure(figsize=(15, 10))\n",
        "# Account for the test_window offset and index into test_labels to ensure correct plotting\n",
        "plot_time_series(timesteps=X_test[-len(test_windows):], values=test_labels[:, 0],format=\"*-\", label=\"Test_data\")\n",
        "plot_time_series(timesteps=X_test[-len(test_windows):], values=model_1_preds, format=\"*-\", label=\"model_1_preds\")"
      ],
      "metadata": {
        "colab": {
          "base_uri": "https://localhost:8080/",
          "height": 850
        },
        "id": "5ex77eNCjP_i",
        "outputId": "bb4c25bd-aeef-4ed5-9c39-691611067c76"
      },
      "execution_count": null,
      "outputs": [
        {
          "output_type": "display_data",
          "data": {
            "text/plain": [
              "<Figure size 1500x1000 with 1 Axes>"
            ],
            "image/png": "[encoded data removed]"
          },
          "metadata": {}
        }
      ]
    },
    {
      "cell_type": "markdown",
      "source": [
        "## Future Forecast method"
      ],
      "metadata": {
        "id": "hv4cfSC-4j5W"
      }
    },
    {
      "cell_type": "code",
      "source": [
        "HORIZON = 1 # predict 1 step at a time\n",
        "WINDOW_SIZE = 4 # Use 4 month timesteps to predict the horizon\n",
        "def make_future_forecast_data(X_all, y_all, model, window_size=WINDOW_SIZE):\n",
        "    # Create an empty list for future forcast\n",
        "    future_forecast = []\n",
        "\n",
        "    # Create a empty list for future feature\n",
        "    feature_values = []\n",
        "\n",
        "    # Previous months\n",
        "    last_window = list(y_all[-WINDOW_SIZE:])[::-1]\n",
        "    last_window = last_window + [np.mean(last_window)] + [np.std(last_window)]\n",
        "    print(last_window)\n",
        "\n",
        "    total_train = X_all.copy()\n",
        "    total_label = y_all.copy()\n",
        "\n",
        "    for i in range(0, 13):\n",
        "        pred_value = model.predict(np.array([last_window]))\n",
        "        # Update train data before continuing training model\n",
        "        total_train = np.concatenate((total_train, [last_window]), axis=0)\n",
        "        total_label = np.concatenate((total_label, pred_value[0]), axis=0)\n",
        "\n",
        "        model = train_model(total_train,total_label)\n",
        "        # Save predicted value\n",
        "        future_forecast.append(pred_value[0][0])\n",
        "        #Save features\n",
        "        feature_values.append(last_window)\n",
        "\n",
        "        last_window = (list(pred_value[0]) + last_window[:-2])[:-1]\n",
        "        last_window = last_window + [np.mean(last_window)] + [np.std(last_window)]\n",
        "\n",
        "    return feature_values, future_forecast\n",
        "    \n",
        "# Write a train model function to reused it later\n",
        "def train_model(X_all, y_all):\n",
        "\n",
        "  tf.random.set_seed(42)\n",
        "\n",
        "  # Construct model\n",
        "  model = tf.keras.Sequential([\n",
        "    layers.Dense(64, activation=\"relu\"),\n",
        "    layers.Dense(HORIZON)      \n",
        "  ]) # give the model a name so we can save it\n",
        "\n",
        "  # Compile model\n",
        "  model.compile(\n",
        "                  optimizer=tf.keras.optimizers.Adam(),\n",
        "                  loss='mse',\n",
        "                  metrics=[tf.keras.metrics.RootMeanSquaredError()]) \n",
        "\n",
        "  # Fit model\n",
        "  model.fit(x=X_all, # train windows of 4 timesteps of maize prices\n",
        "            y=y_all, # horizon value of 1\n",
        "            epochs=100,\n",
        "            verbose=0,\n",
        "            batch_size=8,) # create ModelCheckpoint callback to save best mo\n",
        "  return model"
      ],
      "metadata": {
        "id": "JGLxtF_84c36"
      },
      "execution_count": null,
      "outputs": []
    },
    {
      "cell_type": "code",
      "source": [
        "results = {}\n",
        "features = {}\n",
        "for project_id in df_col.product_number.unique():\n",
        "\n",
        "    # Read dataset and set Date as the index\n",
        "    inventory_data = pd.read_csv(f'/content/{project_id}.csv', usecols =['inventory_units', \"date\"], parse_dates=[\"date\"], index_col=[\"date\"]).sort_index()\n",
        "    \n",
        "    for i in range(WINDOW_SIZE): # Shift values for each step in WINDOW_SIZE\n",
        "        inventory_data[f\"inventory_units+{i+1}\"] = inventory_data[\"inventory_units\"].shift(periods=i)\n",
        "\n",
        "    # Let's create X & y, remove the NaN's and convert to float32 to prevent TensorFlow errors \n",
        "    X_all = inventory_data.drop([\"inventory_units\"], axis=1).dropna()[:-1] # only want prices, our future model can be a univariate model\n",
        "    X_all['Average'] = X_all.mean(axis=1)\n",
        "    X_all['Std'] = X_all.std(axis=1)\n",
        "    y_all = inventory_data.dropna()[\"inventory_units\"][1:]\n",
        "\n",
        "    model = train_model(X_all.to_numpy(), y_all.to_numpy())\n",
        "    feature_values, predicted_values  = make_future_forecast_data(X_all=X_all,\n",
        "                                                y_all=y_all,\n",
        "                                                model=model,\n",
        "                                                window_size=WINDOW_SIZE)\n",
        "    \n",
        "    results[project_id] = predicted_values\n",
        "    features[project_id] = feature_values\n",
        "\n",
        "    print(project_id, feature_values, predicted_values)"
      ],
      "metadata": {
        "id": "5j5J-puD4eRx"
      },
      "execution_count": null,
      "outputs": []
    },
    {
      "cell_type": "code",
      "source": [
        "results = {}\n",
        "features = {}\n",
        "for project_id in df_col.product_number.unique():\n",
        "\n",
        "    # Read dataset and set Date as the index\n",
        "    inventory_data = pd.read_csv(f'/content/{project_id}.csv', usecols =['inventory_units', \"date\"], parse_dates=[\"date\"], index_col=[\"date\"]).sort_index()\n",
        "    \n",
        "    for i in range(WINDOW_SIZE): # Shift values for each step in WINDOW_SIZE\n",
        "        inventory_data[f\"inventory_units+{i+1}\"] = inventory_data[\"inventory_units\"].shift(periods=i)\n",
        "\n",
        "    # Let's create X & y, remove the NaN's and convert to float32 to prevent TensorFlow errors \n",
        "    X_all = inventory_data.drop([\"inventory_units\"], axis=1).dropna()[:-1] # only want prices, our future model can be a univariate model\n",
        "    X_all['Average'] = X_all.mean(axis=1)\n",
        "    X_all['Std'] = X_all.std(axis=1)\n",
        "    y_all = inventory_data.dropna()[\"inventory_units\"][1:]\n",
        "\n",
        "    model = train_model(X_all.to_numpy(), y_all.to_numpy())\n",
        "    feature_values, predicted_values  = make_future_forecast_data(X_all=X_all,\n",
        "                                                y_all=y_all,\n",
        "                                                model=model,\n",
        "                                                window_size=WINDOW_SIZE)\n",
        "    \n",
        "    results[project_id] = predicted_values\n",
        "    features[project_id] = feature_values\n",
        "\n",
        "    print(project_id, feature_values, predicted_values)"
      ],
      "metadata": {
        "id": "OfDzYTSP4ero"
      },
      "execution_count": null,
      "outputs": []
    },
    {
      "cell_type": "code",
      "source": [
        "import csv\n",
        "\n",
        "def save_dict_to_csv(dictionary, filename):\n",
        "    with open(filename, 'w', newline='') as csvfile:\n",
        "        writer = csv.DictWriter(csvfile, fieldnames=dictionary.keys())\n",
        "        writer.writeheader()\n",
        "        writer.writerow(dictionary)\n",
        "\n",
        "# Save the dictionary to a CSV file\n",
        "save_dict_to_csv(results, 'results.csv')\n",
        "for key, value in results.items():\n",
        "  results[key] = [round(i) for i in value]"
      ],
      "metadata": {
        "id": "d1peZUlZ42uY"
      },
      "execution_count": null,
      "outputs": []
    }
  ]
}